{
 "cells": [
  {
   "cell_type": "markdown",
   "id": "46d0cf52-d7b1-49f4-b7e5-172d8b745fff",
   "metadata": {},
   "source": [
    "## PyRidy Example Notebook\n",
    "The intent of this Jupyter Notebook to demonstrate and explain some of the capabilities of the PyRidy Library.\n",
    "\n",
    "<div class=\"alert alert-block alert-info\">\n",
    "<b>Info:</b> PyRidy and the documentation are still in an early development phase. Therefore, features might change and the documentation is not yet complete\n",
    "</div>\n",
    "\n",
    "If pyridy is not installed in your environment, you can install it via:\n",
    "```bash\n",
    "    pip install pyridy\n",
    "```\n",
    "If pyridy is already installed, check whether you use the most recent version.\n",
    "```shell\n",
    "    pip install pyridy --upgrade\n",
    "```\n",
    "\n",
    "***\n",
    "\n",
    "Documentation and API reference can be found here: <https://pyridy.readthedocs.io/en/latest/>"
   ]
  },
  {
   "cell_type": "code",
   "execution_count": 1,
   "id": "42c70800-f8b8-4808-adaa-7404a2e1d0b5",
   "metadata": {},
   "outputs": [
    {
     "ename": "ModuleNotFoundError",
     "evalue": "No module named 'ipympl'",
     "output_type": "error",
     "traceback": [
      "\u001B[1;31m---------------------------------------------------------------------------\u001B[0m",
      "\u001B[1;31mModuleNotFoundError\u001B[0m                       Traceback (most recent call last)",
      "Cell \u001B[1;32mIn[1], line 43\u001B[0m\n\u001B[0;32m     15\u001B[0m \u001B[38;5;124;03m\"\"\"\u001B[39;00m\n\u001B[0;32m     16\u001B[0m \u001B[38;5;124;03mThe following TimeSeries classes currently exist:\u001B[39;00m\n\u001B[0;32m     17\u001B[0m \n\u001B[1;32m   (...)\u001B[0m\n\u001B[0;32m     38\u001B[0m \u001B[38;5;124;03mWhether these measurement were recorded, depends on the settings in the Ridy App and the device's capabilities.\u001B[39;00m\n\u001B[0;32m     39\u001B[0m \u001B[38;5;124;03m\"\"\"\u001B[39;00m\n\u001B[0;32m     41\u001B[0m \u001B[38;5;66;03m# logging.getLogger('pyridy').setLevel(logging.DEBUG)  # Uncomment this to see more information when pyridy functions are called\u001B[39;00m\n\u001B[1;32m---> 43\u001B[0m \u001B[43mget_ipython\u001B[49m\u001B[43m(\u001B[49m\u001B[43m)\u001B[49m\u001B[38;5;241;43m.\u001B[39;49m\u001B[43mrun_line_magic\u001B[49m\u001B[43m(\u001B[49m\u001B[38;5;124;43m'\u001B[39;49m\u001B[38;5;124;43mmatplotlib\u001B[39;49m\u001B[38;5;124;43m'\u001B[39;49m\u001B[43m,\u001B[49m\u001B[43m \u001B[49m\u001B[38;5;124;43m'\u001B[39;49m\u001B[38;5;124;43mwidget\u001B[39;49m\u001B[38;5;124;43m'\u001B[39;49m\u001B[43m)\u001B[49m\n",
      "File \u001B[1;32m~\\anaconda3\\envs\\PyRidy\\lib\\site-packages\\IPython\\core\\interactiveshell.py:2364\u001B[0m, in \u001B[0;36mInteractiveShell.run_line_magic\u001B[1;34m(self, magic_name, line, _stack_depth)\u001B[0m\n\u001B[0;32m   2362\u001B[0m     kwargs[\u001B[38;5;124m'\u001B[39m\u001B[38;5;124mlocal_ns\u001B[39m\u001B[38;5;124m'\u001B[39m] \u001B[38;5;241m=\u001B[39m \u001B[38;5;28mself\u001B[39m\u001B[38;5;241m.\u001B[39mget_local_scope(stack_depth)\n\u001B[0;32m   2363\u001B[0m \u001B[38;5;28;01mwith\u001B[39;00m \u001B[38;5;28mself\u001B[39m\u001B[38;5;241m.\u001B[39mbuiltin_trap:\n\u001B[1;32m-> 2364\u001B[0m     result \u001B[38;5;241m=\u001B[39m \u001B[43mfn\u001B[49m\u001B[43m(\u001B[49m\u001B[38;5;241;43m*\u001B[39;49m\u001B[43margs\u001B[49m\u001B[43m,\u001B[49m\u001B[43m \u001B[49m\u001B[38;5;241;43m*\u001B[39;49m\u001B[38;5;241;43m*\u001B[39;49m\u001B[43mkwargs\u001B[49m\u001B[43m)\u001B[49m\n\u001B[0;32m   2365\u001B[0m \u001B[38;5;28;01mreturn\u001B[39;00m result\n",
      "File \u001B[1;32m~\\anaconda3\\envs\\PyRidy\\lib\\site-packages\\IPython\\core\\magics\\pylab.py:99\u001B[0m, in \u001B[0;36mPylabMagics.matplotlib\u001B[1;34m(self, line)\u001B[0m\n\u001B[0;32m     97\u001B[0m     \u001B[38;5;28mprint\u001B[39m(\u001B[38;5;124m\"\u001B[39m\u001B[38;5;124mAvailable matplotlib backends: \u001B[39m\u001B[38;5;132;01m%s\u001B[39;00m\u001B[38;5;124m\"\u001B[39m \u001B[38;5;241m%\u001B[39m backends_list)\n\u001B[0;32m     98\u001B[0m \u001B[38;5;28;01melse\u001B[39;00m:\n\u001B[1;32m---> 99\u001B[0m     gui, backend \u001B[38;5;241m=\u001B[39m \u001B[38;5;28;43mself\u001B[39;49m\u001B[38;5;241;43m.\u001B[39;49m\u001B[43mshell\u001B[49m\u001B[38;5;241;43m.\u001B[39;49m\u001B[43menable_matplotlib\u001B[49m\u001B[43m(\u001B[49m\u001B[43margs\u001B[49m\u001B[38;5;241;43m.\u001B[39;49m\u001B[43mgui\u001B[49m\u001B[38;5;241;43m.\u001B[39;49m\u001B[43mlower\u001B[49m\u001B[43m(\u001B[49m\u001B[43m)\u001B[49m\u001B[43m \u001B[49m\u001B[38;5;28;43;01mif\u001B[39;49;00m\u001B[43m \u001B[49m\u001B[38;5;28;43misinstance\u001B[39;49m\u001B[43m(\u001B[49m\u001B[43margs\u001B[49m\u001B[38;5;241;43m.\u001B[39;49m\u001B[43mgui\u001B[49m\u001B[43m,\u001B[49m\u001B[43m \u001B[49m\u001B[38;5;28;43mstr\u001B[39;49m\u001B[43m)\u001B[49m\u001B[43m \u001B[49m\u001B[38;5;28;43;01melse\u001B[39;49;00m\u001B[43m \u001B[49m\u001B[43margs\u001B[49m\u001B[38;5;241;43m.\u001B[39;49m\u001B[43mgui\u001B[49m\u001B[43m)\u001B[49m\n\u001B[0;32m    100\u001B[0m     \u001B[38;5;28mself\u001B[39m\u001B[38;5;241m.\u001B[39m_show_matplotlib_backend(args\u001B[38;5;241m.\u001B[39mgui, backend)\n",
      "File \u001B[1;32m~\\anaconda3\\envs\\PyRidy\\lib\\site-packages\\IPython\\core\\interactiveshell.py:3528\u001B[0m, in \u001B[0;36mInteractiveShell.enable_matplotlib\u001B[1;34m(self, gui)\u001B[0m\n\u001B[0;32m   3524\u001B[0m         \u001B[38;5;28mprint\u001B[39m(\u001B[38;5;124m'\u001B[39m\u001B[38;5;124mWarning: Cannot change to a different GUI toolkit: \u001B[39m\u001B[38;5;132;01m%s\u001B[39;00m\u001B[38;5;124m.\u001B[39m\u001B[38;5;124m'\u001B[39m\n\u001B[0;32m   3525\u001B[0m                 \u001B[38;5;124m'\u001B[39m\u001B[38;5;124m Using \u001B[39m\u001B[38;5;132;01m%s\u001B[39;00m\u001B[38;5;124m instead.\u001B[39m\u001B[38;5;124m'\u001B[39m \u001B[38;5;241m%\u001B[39m (gui, \u001B[38;5;28mself\u001B[39m\u001B[38;5;241m.\u001B[39mpylab_gui_select))\n\u001B[0;32m   3526\u001B[0m         gui, backend \u001B[38;5;241m=\u001B[39m pt\u001B[38;5;241m.\u001B[39mfind_gui_and_backend(\u001B[38;5;28mself\u001B[39m\u001B[38;5;241m.\u001B[39mpylab_gui_select)\n\u001B[1;32m-> 3528\u001B[0m \u001B[43mpt\u001B[49m\u001B[38;5;241;43m.\u001B[39;49m\u001B[43mactivate_matplotlib\u001B[49m\u001B[43m(\u001B[49m\u001B[43mbackend\u001B[49m\u001B[43m)\u001B[49m\n\u001B[0;32m   3529\u001B[0m configure_inline_support(\u001B[38;5;28mself\u001B[39m, backend)\n\u001B[0;32m   3531\u001B[0m \u001B[38;5;66;03m# Now we must activate the gui pylab wants to use, and fix %run to take\u001B[39;00m\n\u001B[0;32m   3532\u001B[0m \u001B[38;5;66;03m# plot updates into account\u001B[39;00m\n",
      "File \u001B[1;32m~\\anaconda3\\envs\\PyRidy\\lib\\site-packages\\IPython\\core\\pylabtools.py:360\u001B[0m, in \u001B[0;36mactivate_matplotlib\u001B[1;34m(backend)\u001B[0m\n\u001B[0;32m    355\u001B[0m \u001B[38;5;66;03m# Due to circular imports, pyplot may be only partially initialised\u001B[39;00m\n\u001B[0;32m    356\u001B[0m \u001B[38;5;66;03m# when this function runs.\u001B[39;00m\n\u001B[0;32m    357\u001B[0m \u001B[38;5;66;03m# So avoid needing matplotlib attribute-lookup to access pyplot.\u001B[39;00m\n\u001B[0;32m    358\u001B[0m \u001B[38;5;28;01mfrom\u001B[39;00m \u001B[38;5;21;01mmatplotlib\u001B[39;00m \u001B[38;5;28;01mimport\u001B[39;00m pyplot \u001B[38;5;28;01mas\u001B[39;00m plt\n\u001B[1;32m--> 360\u001B[0m \u001B[43mplt\u001B[49m\u001B[38;5;241;43m.\u001B[39;49m\u001B[43mswitch_backend\u001B[49m\u001B[43m(\u001B[49m\u001B[43mbackend\u001B[49m\u001B[43m)\u001B[49m\n\u001B[0;32m    362\u001B[0m plt\u001B[38;5;241m.\u001B[39mshow\u001B[38;5;241m.\u001B[39m_needmain \u001B[38;5;241m=\u001B[39m \u001B[38;5;28;01mFalse\u001B[39;00m\n\u001B[0;32m    363\u001B[0m \u001B[38;5;66;03m# We need to detect at runtime whether show() is called by the user.\u001B[39;00m\n\u001B[0;32m    364\u001B[0m \u001B[38;5;66;03m# For this, we wrap it into a decorator which adds a 'called' flag.\u001B[39;00m\n",
      "File \u001B[1;32m~\\anaconda3\\envs\\PyRidy\\lib\\site-packages\\matplotlib\\pyplot.py:288\u001B[0m, in \u001B[0;36mswitch_backend\u001B[1;34m(newbackend)\u001B[0m\n\u001B[0;32m    281\u001B[0m \u001B[38;5;66;03m# Backends are implemented as modules, but \"inherit\" default method\u001B[39;00m\n\u001B[0;32m    282\u001B[0m \u001B[38;5;66;03m# implementations from backend_bases._Backend.  This is achieved by\u001B[39;00m\n\u001B[0;32m    283\u001B[0m \u001B[38;5;66;03m# creating a \"class\" that inherits from backend_bases._Backend and whose\u001B[39;00m\n\u001B[0;32m    284\u001B[0m \u001B[38;5;66;03m# body is filled with the module's globals.\u001B[39;00m\n\u001B[0;32m    286\u001B[0m backend_name \u001B[38;5;241m=\u001B[39m cbook\u001B[38;5;241m.\u001B[39m_backend_module_name(newbackend)\n\u001B[1;32m--> 288\u001B[0m \u001B[38;5;28;01mclass\u001B[39;00m \u001B[38;5;21;01mbackend_mod\u001B[39;00m(matplotlib\u001B[38;5;241m.\u001B[39mbackend_bases\u001B[38;5;241m.\u001B[39m_Backend):\n\u001B[0;32m    289\u001B[0m     \u001B[38;5;28mlocals\u001B[39m()\u001B[38;5;241m.\u001B[39mupdate(\u001B[38;5;28mvars\u001B[39m(importlib\u001B[38;5;241m.\u001B[39mimport_module(backend_name)))\n\u001B[0;32m    291\u001B[0m required_framework \u001B[38;5;241m=\u001B[39m _get_required_interactive_framework(backend_mod)\n",
      "File \u001B[1;32m~\\anaconda3\\envs\\PyRidy\\lib\\site-packages\\matplotlib\\pyplot.py:289\u001B[0m, in \u001B[0;36mswitch_backend.<locals>.backend_mod\u001B[1;34m()\u001B[0m\n\u001B[0;32m    288\u001B[0m \u001B[38;5;28;01mclass\u001B[39;00m \u001B[38;5;21;01mbackend_mod\u001B[39;00m(matplotlib\u001B[38;5;241m.\u001B[39mbackend_bases\u001B[38;5;241m.\u001B[39m_Backend):\n\u001B[1;32m--> 289\u001B[0m     \u001B[38;5;28mlocals\u001B[39m()\u001B[38;5;241m.\u001B[39mupdate(\u001B[38;5;28mvars\u001B[39m(\u001B[43mimportlib\u001B[49m\u001B[38;5;241;43m.\u001B[39;49m\u001B[43mimport_module\u001B[49m\u001B[43m(\u001B[49m\u001B[43mbackend_name\u001B[49m\u001B[43m)\u001B[49m))\n",
      "File \u001B[1;32m~\\anaconda3\\envs\\PyRidy\\lib\\importlib\\__init__.py:127\u001B[0m, in \u001B[0;36mimport_module\u001B[1;34m(name, package)\u001B[0m\n\u001B[0;32m    125\u001B[0m             \u001B[38;5;28;01mbreak\u001B[39;00m\n\u001B[0;32m    126\u001B[0m         level \u001B[38;5;241m+\u001B[39m\u001B[38;5;241m=\u001B[39m \u001B[38;5;241m1\u001B[39m\n\u001B[1;32m--> 127\u001B[0m \u001B[38;5;28;01mreturn\u001B[39;00m \u001B[43m_bootstrap\u001B[49m\u001B[38;5;241;43m.\u001B[39;49m\u001B[43m_gcd_import\u001B[49m\u001B[43m(\u001B[49m\u001B[43mname\u001B[49m\u001B[43m[\u001B[49m\u001B[43mlevel\u001B[49m\u001B[43m:\u001B[49m\u001B[43m]\u001B[49m\u001B[43m,\u001B[49m\u001B[43m \u001B[49m\u001B[43mpackage\u001B[49m\u001B[43m,\u001B[49m\u001B[43m \u001B[49m\u001B[43mlevel\u001B[49m\u001B[43m)\u001B[49m\n",
      "File \u001B[1;32m<frozen importlib._bootstrap>:1014\u001B[0m, in \u001B[0;36m_gcd_import\u001B[1;34m(name, package, level)\u001B[0m\n",
      "File \u001B[1;32m<frozen importlib._bootstrap>:991\u001B[0m, in \u001B[0;36m_find_and_load\u001B[1;34m(name, import_)\u001B[0m\n",
      "File \u001B[1;32m<frozen importlib._bootstrap>:961\u001B[0m, in \u001B[0;36m_find_and_load_unlocked\u001B[1;34m(name, import_)\u001B[0m\n",
      "File \u001B[1;32m<frozen importlib._bootstrap>:219\u001B[0m, in \u001B[0;36m_call_with_frames_removed\u001B[1;34m(f, *args, **kwds)\u001B[0m\n",
      "File \u001B[1;32m<frozen importlib._bootstrap>:1014\u001B[0m, in \u001B[0;36m_gcd_import\u001B[1;34m(name, package, level)\u001B[0m\n",
      "File \u001B[1;32m<frozen importlib._bootstrap>:991\u001B[0m, in \u001B[0;36m_find_and_load\u001B[1;34m(name, import_)\u001B[0m\n",
      "File \u001B[1;32m<frozen importlib._bootstrap>:973\u001B[0m, in \u001B[0;36m_find_and_load_unlocked\u001B[1;34m(name, import_)\u001B[0m\n",
      "\u001B[1;31mModuleNotFoundError\u001B[0m: No module named 'ipympl'"
     ]
    }
   ],
   "source": [
    "%load_ext autoreload\n",
    "%autoreload 2\n",
    "\n",
    "# Imports\n",
    "import logging\n",
    "import numpy as np\n",
    "import matplotlib.pyplot as plt\n",
    "import matplotlib.dates as mdates\n",
    "\n",
    "from scipy import signal\n",
    "\n",
    "import pyridy\n",
    "\n",
    "from pyridy.utils import AccelerationSeries, LinearAccelerationSeries, GyroSeries, GPSSeries # Every data series that should be used should be imported here\n",
    "\"\"\"\n",
    "The following TimeSeries classes currently exist:\n",
    "\n",
    "    AccelerationSeries\n",
    "    AccelerationUncalibratedSeries\n",
    "    LinearAccelerationSeries\n",
    "    MagnetometerSeries\n",
    "    MagnetometerUncalibratedSeries\n",
    "    NMEAMessageSeries\n",
    "    GNSSClockMeasurementSeries\n",
    "    GNSSMeasurementSeries\n",
    "    OrientationSeries\n",
    "    GyroSeries\n",
    "    GyroUncalibratedSeries\n",
    "    RotationSeries\n",
    "    GPSSeries\n",
    "    PressureSeries\n",
    "    TemperatureSeries\n",
    "    HumiditySeries\n",
    "    LightSeries\n",
    "    WzSeries\n",
    "    SubjectiveComfortSeries\n",
    "    \n",
    "Whether these measurement were recorded, depends on the settings in the Ridy App and the device's capabilities.\n",
    "\"\"\"\n",
    "\n",
    "# logging.getLogger('pyridy').setLevel(logging.DEBUG)  # Uncomment this to see more information when pyridy functions are called\n",
    "\n",
    "%matplotlib widget"
   ]
  },
  {
   "cell_type": "markdown",
   "id": "fec66c64-9a84-4179-82ff-5f2cebd487e4",
   "metadata": {},
   "source": [
    "### Loading measurement files\n",
    "Within the folder two measurements files can be found that are going to be imported. The argument download_osm_region tries to download additional OSM which includes\n",
    "railway track data, railway lines, position of level crossings and switches. Sometimes the Overpass API which is used to access the data can be overloaded leading to an error."
   ]
  },
  {
   "cell_type": "code",
   "execution_count": 3,
   "id": "d3322557-d08b-45f3-8d06-6e525e925dee",
   "metadata": {
    "tags": []
   },
   "outputs": [
    {
     "data": {
      "application/vnd.jupyter.widget-view+json": {
       "model_id": "eb95ad69abbf4e28a98018d2c192796d",
       "version_major": 2,
       "version_minor": 0
      },
      "text/plain": [
       "0it [00:00, ?it/s]"
      ]
     },
     "metadata": {},
     "output_type": "display_data"
    },
    {
     "data": {
      "application/vnd.jupyter.widget-view+json": {
       "model_id": "d4cdbd3170994b07bbf1896299bcc8dc",
       "version_major": 2,
       "version_minor": 0
      },
      "text/plain": [
       "  0%|          | 0/2 [00:00<?, ?it/s]"
      ]
     },
     "metadata": {},
     "output_type": "display_data"
    },
    {
     "name": "stderr",
     "output_type": "stream",
     "text": [
      "(2021-10-23T183518.175+0200d.sqlite) No ntp timestamp and datetime, falling back to device_time synchronization\n"
     ]
    },
    {
     "data": {
      "application/vnd.jupyter.widget-view+json": {
       "model_id": "b7a1aac51c6b4622953a1bf2095a82a1",
       "version_major": 2,
       "version_minor": 0
      },
      "text/plain": [
       "  0%|          | 0/2 [00:00<?, ?it/s]"
      ]
     },
     "metadata": {},
     "output_type": "display_data"
    }
   ],
   "source": [
    "# Loading multiple files by creating a measurement campaign\n",
    "path = \"ridy_data\"\n",
    "#path = r\"D://10_Daten/Ridy/Neu\"\n",
    "\n",
    "# campaign = pyridy.Campaign(folder=path, sync_method=\"ntp_time\", download_osm_data=True, railway_types=[\"rail\"], osm_recurse_type=\"<\")\n",
    "\n",
    "# Load only some timeseries\n",
    "campaign = pyridy.Campaign(folder=path, sync_method=\"ntp_time\", download_osm_data=False, railway_types=[\"rail\"], osm_recurse_type=\"<\", series=[GPSSeries])"
   ]
  },
  {
   "cell_type": "markdown",
   "id": "4903fb54-c57f-4969-87e2-4392a61277df",
   "metadata": {},
   "source": [
    "### Displaying the files GPS tracks on a map\n",
    "The following code plots the GPS track onto a Map. If show_railway_elements is set to true, additional markers for switches and level crossings are being drawn onto the map. Depending on the size of the region creating the map can take several seconds."
   ]
  },
  {
   "cell_type": "code",
   "execution_count": 7,
   "id": "00f8ff19-2a8a-4aa3-9915-aef69feddba9",
   "metadata": {},
   "outputs": [
    {
     "name": "stderr",
     "output_type": "stream",
     "text": [
      "WARNING:pyridy.campaign:No OSM region downloaded!\n"
     ]
    },
    {
     "data": {
      "application/vnd.jupyter.widget-view+json": {
       "model_id": "9cbed88716204f9680c6a9e1e4ec3d46",
       "version_major": 2,
       "version_minor": 0
      },
      "text/plain": [
       "Map(center=[51.04085731506348, 6.595613241195679], controls=(ZoomControl(options=['position', 'zoom_in_text', …"
      ]
     },
     "metadata": {},
     "output_type": "display_data"
    }
   ],
   "source": [
    "m = campaign.create_map(show_railway_elements=False)\n",
    "m"
   ]
  },
  {
   "cell_type": "code",
   "execution_count": null,
   "id": "a6f906e6-165b-47fb-ad7f-0f0abb2414cc",
   "metadata": {},
   "outputs": [],
   "source": [
    "campaign(\"2021-12-12T213211.405+0100.sqlite\").measurements[AccelerationSeries].time[0]"
   ]
  },
  {
   "cell_type": "markdown",
   "id": "8820cba9-a27b-4756-a047-30d352abd61d",
   "metadata": {},
   "source": [
    "### Plotting measurement series\n",
    "The following code plots the velocity and linear acceleration of one vehicle over time. Due to the long measurement duration, it can take a few seconds until the plot appears."
   ]
  },
  {
   "cell_type": "code",
   "execution_count": null,
   "id": "a38c2844-bd41-4d1e-b92b-0136a2351301",
   "metadata": {},
   "outputs": [],
   "source": [
    "f = campaign[1] # Individual files can either be accessed over indices or by calling the campaign with the file name campaign(\"NAME_OF_THE_FILE\")\n",
    "\n",
    "fig, ax = plt.subplots(2, 1, sharex=\"row\", figsize=(10, 5))\n",
    "\n",
    "# Upper plot showing vehicle speed\n",
    "ax[0].plot(f.measurements[GPSSeries].time, f.measurements[GPSSeries].speed*3.6)  # Note that individual data series can be accessed using their classes which have to be imported before\n",
    "ax[0].grid()\n",
    "ax[0].set_ylabel(\"Velocity [km/h]\")\n",
    "ax[0].set_xlabel(\"Time\")\n",
    "ax[0].xaxis.set_major_formatter(mdates.DateFormatter('%H:%M:%S'))\n",
    "\n",
    "# Lower plot showing vehicle vertical acceleration\n",
    "ax[1].scatter(f.measurements[LinearAccelerationSeries].time, f.measurements[LinearAccelerationSeries].lin_acc_z, facecolors='none', edgecolors='r',s=3)\n",
    "ax[1].grid()\n",
    "ax[1].set_ylabel(\"Lin Acc_z [m/s^2]\")\n",
    "ax[1].set_xlabel(\"Time\")\n",
    "\n",
    "ax[1].xaxis.set_major_formatter(mdates.DateFormatter('%H:%M:%S'))\n",
    "\n",
    "\n",
    "plt.suptitle(f.name)\n",
    "plt.show()"
   ]
  },
  {
   "cell_type": "markdown",
   "id": "373f52aa-2252-4e28-a5d8-e6b33ed2361e",
   "metadata": {},
   "source": [
    "### Get positions of railway track elements like switches, level crossings or signals\n",
    "The downloaded OSM data contains information about the position of railway switches, level crossings or railway signals."
   ]
  },
  {
   "cell_type": "code",
   "execution_count": null,
   "id": "f21f1fcb-e1f8-427a-ac27-dee8cbf46f0e",
   "metadata": {},
   "outputs": [],
   "source": [
    "switches = campaign.osm_region.get_switches()[:5] # Get the first five switches\n",
    "switches"
   ]
  },
  {
   "cell_type": "code",
   "execution_count": null,
   "id": "fc01c25c-af8e-4022-ba57-c51ce8956f7d",
   "metadata": {},
   "outputs": [],
   "source": [
    "switches[0].__dict__"
   ]
  },
  {
   "cell_type": "code",
   "execution_count": null,
   "id": "a4623247-c895-4de0-be57-93e489100407",
   "metadata": {},
   "outputs": [],
   "source": [
    "print(switches[0].lon, switches[0].lat) # Print e.g. the coordinates of the first switch"
   ]
  },
  {
   "cell_type": "code",
   "execution_count": null,
   "id": "f343c53a-aa3b-4b7d-ae62-b22ef1e0e307",
   "metadata": {},
   "outputs": [],
   "source": [
    "signals = campaign.osm_region.get_signals() # Get railway signals\n",
    "signals[20].__dict__ # Show the attributes of one exemplary signal"
   ]
  },
  {
   "cell_type": "code",
   "execution_count": null,
   "id": "46b5b3d8-c2b6-405d-a3e4-22cba7b63750",
   "metadata": {},
   "outputs": [],
   "source": [
    "level_crossings = campaign.osm_region.get_level_crossings() # Get level crossings\n",
    "level_crossings[1].__dict__"
   ]
  },
  {
   "cell_type": "markdown",
   "id": "d3172245-aa49-430f-bec0-ab16568ca655",
   "metadata": {},
   "source": [
    "### Get railway route information\n",
    "The OSM data also contains information about that railway lines that use the downloaded tracks"
   ]
  },
  {
   "cell_type": "code",
   "execution_count": null,
   "id": "b03c53db-fa82-4e18-988b-f202630db636",
   "metadata": {},
   "outputs": [],
   "source": [
    "campaign.osm.railway_lines[:10] # Returns the first ten railway lines "
   ]
  },
  {
   "cell_type": "code",
   "execution_count": null,
   "id": "1d46f4dd-a80b-4d22-b31f-fce7adbf185d",
   "metadata": {},
   "outputs": [],
   "source": [
    "campaign.osm.get_railway_line(\"RE1\") # Search for a specific railway line"
   ]
  },
  {
   "cell_type": "markdown",
   "id": "a2b9a54a-dbc8-4676-8bff-4dd525f3b9ec",
   "metadata": {},
   "source": [
    "<div class=\"alert alert-block alert-info\">\n",
    "<b>Tip:</b> If you want to the view the attributes of an object (e.g. a switch or railway line), use \".__dict__\"\n",
    "</div>"
   ]
  },
  {
   "cell_type": "markdown",
   "id": "aae16b9b-1150-4307-802e-62348fe832ae",
   "metadata": {},
   "source": [
    "It is also possible to retrieve the switches that are located on a specific line"
   ]
  },
  {
   "cell_type": "code",
   "execution_count": null,
   "id": "bca1a2b9-55e5-4104-bfa0-e2df4e6afa85",
   "metadata": {},
   "outputs": [],
   "source": [
    "re1_aachen_köln = campaign.osm.get_railway_line(\"RE1\")[1]\n",
    "re1_switches = campaign.osm.get_switches_for_railway_line(re1_aachen_köln)\n",
    "re1_switches[:5].lat"
   ]
  },
  {
   "cell_type": "markdown",
   "id": "b98e671f-6e6d-43ba-99d3-1d86b0db4776",
   "metadata": {},
   "source": [
    "Plot retrieved switches onto the Map "
   ]
  },
  {
   "cell_type": "code",
   "execution_count": null,
   "id": "6de7b233-bd34-483e-9d9f-687b7ddc88f6",
   "metadata": {},
   "outputs": [],
   "source": [
    "from ipyleaflet import Icon, Marker\n",
    "\n",
    "for sw in re1_switches:\n",
    "    icon = Icon(icon_url='https://raw.githubusercontent.com/pointhi/leaflet-color-markers/master/img/marker-icon-black.png',\n",
    "                shadow_url='https://cdnjs.cloudflare.com/ajax/libs/leaflet/0.7.7/images/marker-shadow.png',\n",
    "                icon_size=[25, 41],\n",
    "                icon_anchor=[12, 41],\n",
    "                popup_anchor=[1, -34],\n",
    "                shadow_size=[41, 41])\n",
    "    marker = Marker(location=(sw.lat, sw.lon), draggable=False, icon=icon)\n",
    "    m.add(marker)\n",
    "            \n",
    "m"
   ]
  }
 ],
 "metadata": {
  "kernelspec": {
   "display_name": "Python 3 (ipykernel)",
   "language": "python",
   "name": "python3"
  },
  "language_info": {
   "codemirror_mode": {
    "name": "ipython",
    "version": 3
   },
   "file_extension": ".py",
   "mimetype": "text/x-python",
   "name": "python",
   "nbconvert_exporter": "python",
   "pygments_lexer": "ipython3",
   "version": "3.8.15"
  },
  "widgets": {
   "application/vnd.jupyter.widget-state+json": {
    "state": {
     "0e2c282ac37f4ae1ad856daad043986b": {
      "model_module": "jupyter-leaflet",
      "model_module_version": "^0.17",
      "model_name": "LeafletTileLayerModel",
      "state": {
       "_model_module_version": "^0.17",
       "_view_module_version": "^0.17",
       "attribution": "<a href=\"https://www.openstreetmap.org/copyright\">© OpenStreetMap contributors</a>, Style: <a href=\"http://creativecommons.org/licenses/by-sa/2.0/\">CC-BY-SA 2.0</a> <a href=\"http://www.openrailwaymap.org/\">OpenRailwayMap</a> and OpenStreetMap",
       "max_zoom": 19,
       "name": "OpenRailwayMap",
       "options": [
        "attribution",
        "bounds",
        "detect_retina",
        "max_native_zoom",
        "max_zoom",
        "min_native_zoom",
        "min_zoom",
        "no_wrap",
        "tile_size",
        "tms",
        "zoom_offset"
       ],
       "url": "https://{s}.tiles.openrailwaymap.org/standard/{z}/{x}/{y}.png"
      }
     },
     "26aeda4383fc40e58dc213e2a049882c": {
      "model_module": "jupyter-leaflet",
      "model_module_version": "^0.17",
      "model_name": "LeafletTileLayerModel",
      "state": {
       "_model_module_version": "^0.17",
       "_view_module_version": "^0.17",
       "max_zoom": 19,
       "name": "OpenStreetMap BW",
       "options": [
        "attribution",
        "bounds",
        "detect_retina",
        "max_native_zoom",
        "max_zoom",
        "min_native_zoom",
        "min_zoom",
        "no_wrap",
        "tile_size",
        "tms",
        "zoom_offset"
       ],
       "url": "https://{s}.tiles.wmflabs.org/bw-mapnik/{z}/{x}/{y}.png"
      }
     },
     "2c30df41d5d7415abc09a6f173b37739": {
      "model_module": "jupyter-leaflet",
      "model_module_version": "^0.17",
      "model_name": "LeafletIconModel",
      "state": {
       "_model_module_version": "^0.17",
       "_view_module_version": "^0.17",
       "icon_anchor": [
        12,
        41
       ],
       "icon_size": [
        25,
        41
       ],
       "icon_url": "https://raw.githubusercontent.com/pointhi/leaflet-color-markers/master/img/marker-icon-green.png",
       "options": [
        "icon_anchor",
        "icon_size",
        "icon_url",
        "popup_anchor",
        "shadow_anchor",
        "shadow_size",
        "shadow_url"
       ],
       "popup_anchor": [
        1,
        -34
       ],
       "shadow_size": [
        41,
        41
       ],
       "shadow_url": "https://cdnjs.cloudflare.com/ajax/libs/leaflet/0.7.7/images/marker-shadow.png"
      }
     },
     "50b6ae717d524377bdc6a8a84ff6f471": {
      "model_module": "jupyter-leaflet",
      "model_module_version": "^0.17",
      "model_name": "LeafletTileLayerModel",
      "state": {
       "_model_module_version": "^0.17",
       "_view_module_version": "^0.17",
       "max_zoom": 19,
       "name": "OpenStreetMap",
       "options": [
        "attribution",
        "bounds",
        "detect_retina",
        "max_native_zoom",
        "max_zoom",
        "min_native_zoom",
        "min_zoom",
        "no_wrap",
        "tile_size",
        "tms",
        "zoom_offset"
       ],
       "url": "https://{s}.tile.openstreetmap.de/{z}/{x}/{y}.png"
      }
     },
     "78d4f4be725243fab710a55a3c26c214": {
      "model_module": "jupyter-leaflet",
      "model_module_version": "^0.17",
      "model_name": "LeafletIconModel",
      "state": {
       "_model_module_version": "^0.17",
       "_view_module_version": "^0.17",
       "icon_anchor": [
        12,
        41
       ],
       "icon_size": [
        25,
        41
       ],
       "icon_url": "https://raw.githubusercontent.com/pointhi/leaflet-color-markers/master/img/marker-icon-red.png",
       "options": [
        "icon_anchor",
        "icon_size",
        "icon_url",
        "popup_anchor",
        "shadow_anchor",
        "shadow_size",
        "shadow_url"
       ],
       "popup_anchor": [
        1,
        -34
       ],
       "shadow_size": [
        41,
        41
       ],
       "shadow_url": "https://cdnjs.cloudflare.com/ajax/libs/leaflet/0.7.7/images/marker-shadow.png"
      }
     }
    },
    "version_major": 2,
    "version_minor": 0
   }
  }
 },
 "nbformat": 4,
 "nbformat_minor": 5
}
