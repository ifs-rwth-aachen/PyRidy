{
 "cells": [
  {
   "cell_type": "markdown",
   "id": "90996fa9-335f-4e19-b7f8-39a9418914e6",
   "metadata": {},
   "source": [
    "# Series Example"
   ]
  },
  {
   "cell_type": "markdown",
   "id": "e2597245-74c1-4cfa-88aa-7943cab175d7",
   "metadata": {},
   "source": [
    "This example shows how to access the measurements of an acceleration series and cut off seconds interval. The argument inplace if set to True cuts data inplace otherwise returns a copy of the timeseries."
   ]
  },
  {
   "cell_type": "markdown",
   "id": "50c3f699-3ea0-4022-9f9f-ce8381cfacc6",
   "metadata": {},
   "source": [
    "The following TimeSeries classes currently exist:\n",
    "\n",
    "    AccelerationSeries\n",
    "    AccelerationUncalibratedSeries\n",
    "    LinearAccelerationSeries\n",
    "    MagnetometerSeries\n",
    "    MagnetometerUncalibratedSeries\n",
    "    NMEAMessageSeries\n",
    "    GNSSClockMeasurementSeries\n",
    "    GNSSMeasurementSeries\n",
    "    OrientationSeries\n",
    "    GyroSeries\n",
    "    GyroUncalibratedSeries\n",
    "    RotationSeries\n",
    "    GPSSeries\n",
    "    PressureSeries\n",
    "    TemperatureSeries\n",
    "    HumiditySeries\n",
    "    LightSeries\n",
    "    WzSeries\n",
    "    SubjectiveComfortSeries\n",
    "    \n",
    "Whether these measurement were recorded, depends on the settings in the Ridy App and the device's capabilities."
   ]
  },
  {
   "cell_type": "code",
   "execution_count": 2,
   "id": "0847e6bf-79fc-443d-bc78-cb5bca69206e",
   "metadata": {},
   "outputs": [
    {
     "data": {
      "application/vnd.jupyter.widget-view+json": {
       "model_id": "51799ce0ee624014841585e145973b3e",
       "version_major": 2,
       "version_minor": 0
      },
      "text/plain": [
       "File Import:   0%|          | 0/1 [00:00<?, ?it/s]"
      ]
     },
     "metadata": {},
     "output_type": "display_data"
    },
    {
     "name": "stderr",
     "output_type": "stream",
     "text": [
      "Execution failed on sql 'SELECT * from measurement_information_table': no such table: measurement_information_table\n"
     ]
    },
    {
     "name": "stdout",
     "output_type": "stream",
     "text": [
      "[WinError 10061] No connection could be made because the target machine actively refused it\n",
      "[WinError 10061] No connection could be made because the target machine actively refused it\n"
     ]
    },
    {
     "data": {
      "application/vnd.jupyter.widget-view+json": {
       "model_id": "9383361481d64eeda161865d5a87d6f6",
       "version_major": 2,
       "version_minor": 0
      },
      "text/plain": [
       "Bounding Boxes:   0%|          | 0/1 [00:00<?, ?it/s]"
      ]
     },
     "metadata": {},
     "output_type": "display_data"
    },
    {
     "data": {
      "application/vnd.jupyter.widget-view+json": {
       "model_id": "38e47ed10dc14c72809e8552b61164dd",
       "version_major": 2,
       "version_minor": 0
      },
      "text/plain": [
       "Railway Types:   0%|          | 0/1 [00:00<?, ?it/s]"
      ]
     },
     "metadata": {},
     "output_type": "display_data"
    }
   ],
   "source": [
    "import pyridy\n",
    "from pyridy.utils import AccelerationSeries, LinearAccelerationSeries, GyroSeries, GPSSeries # Every data series that should be used should be imported here\n",
    "\n",
    "path = '../files/sqlite/osm_mapping_test'\n",
    "campaign = pyridy.Campaign(folder=path, download_osm_data=True, railway_types=[\"tram\"], osm_recurse_type=\"<\")\n"
   ]
  },
  {
   "cell_type": "code",
   "execution_count": 3,
   "id": "4c083ce4-88a8-4600-a0e9-7695b49fafb9",
   "metadata": {
    "tags": []
   },
   "outputs": [
    {
     "name": "stdout",
     "output_type": "stream",
     "text": [
      "10.002845174000015\n"
     ]
    }
   ],
   "source": [
    "acc_dur_pre = campaign[0].measurements[AccelerationSeries].get_duration()\n",
    "campaign[0].measurements[AccelerationSeries].cut(5, 5, inplace= True)\n",
    "acc_dur_post = campaign[0].measurements[AccelerationSeries].get_duration()\n",
    "print(acc_dur_pre - acc_dur_post)"
   ]
  }
 ],
 "metadata": {
  "kernelspec": {
   "display_name": "Python 3 (ipykernel)",
   "language": "python",
   "name": "python3"
  },
  "language_info": {
   "codemirror_mode": {
    "name": "ipython",
    "version": 3
   },
   "file_extension": ".py",
   "mimetype": "text/x-python",
   "name": "python",
   "nbconvert_exporter": "python",
   "pygments_lexer": "ipython3",
   "version": "3.9.16"
  },
  "widgets": {
   "application/vnd.jupyter.widget-state+json": {
    "state": {
     "00c1ecb21c8d4ad1aebec2d49059c151": {
      "model_module": "@jupyter-widgets/controls",
      "model_module_version": "1.5.0",
      "model_name": "ProgressStyleModel",
      "state": {
       "description_width": ""
      }
     },
     "021f2e298f044506af47dae39efb9696": {
      "model_module": "jupyter-leaflet",
      "model_module_version": "^0.17.0",
      "model_name": "LeafletTileLayerModel",
      "state": {
       "_model_module_version": "^0.17.0",
       "_view_module_version": "^0.17.0",
       "max_zoom": 19,
       "name": "OpenStreetMap",
       "options": [
        "attribution",
        "bounds",
        "detect_retina",
        "max_native_zoom",
        "max_zoom",
        "min_native_zoom",
        "min_zoom",
        "no_wrap",
        "tile_size",
        "tms"
       ],
       "url": "https://{s}.tile.openstreetmap.de/{z}/{x}/{y}.png"
      }
     },
     "02794218a61b408a9b728389acecb3bf": {
      "model_module": "@jupyter-widgets/base",
      "model_module_version": "1.2.0",
      "model_name": "LayoutModel",
      "state": {}
     },
     "03a2661968954466891e70f04a31f977": {
      "model_module": "@jupyter-widgets/controls",
      "model_module_version": "1.5.0",
      "model_name": "DescriptionStyleModel",
      "state": {
       "description_width": ""
      }
     },
     "03bf5b6a701548f4a2ab1fc212964234": {
      "model_module": "@jupyter-widgets/controls",
      "model_module_version": "1.5.0",
      "model_name": "HBoxModel",
      "state": {
       "children": [
        "IPY_MODEL_af72d3395d37489e8dba52d6439f5ce1",
        "IPY_MODEL_e5f62ddd51064eaf8214c2d319d9594f",
        "IPY_MODEL_6cc87048431e40d4b822f5a8f9e7fef5"
       ],
       "layout": "IPY_MODEL_93270fec0b0848faa694080eb945cfa4"
      }
     },
     "0828cf2ff8b04109bb469cb103730f0e": {
      "model_module": "@jupyter-widgets/controls",
      "model_module_version": "1.5.0",
      "model_name": "DescriptionStyleModel",
      "state": {
       "description_width": ""
      }
     },
     "0905e43112d84ad68b94c2fe829c2a34": {
      "model_module": "@jupyter-widgets/base",
      "model_module_version": "1.2.0",
      "model_name": "LayoutModel",
      "state": {}
     },
     "097959740bf64326a7f7bfcd224c4187": {
      "model_module": "@jupyter-widgets/controls",
      "model_module_version": "1.5.0",
      "model_name": "ProgressStyleModel",
      "state": {
       "description_width": ""
      }
     },
     "0c678934e61942e39704ec70d62a4358": {
      "model_module": "@jupyter-widgets/controls",
      "model_module_version": "1.5.0",
      "model_name": "FloatProgressModel",
      "state": {
       "bar_style": "success",
       "layout": "IPY_MODEL_39257fe25e274ac585944da254736306",
       "max": 1,
       "style": "IPY_MODEL_00c1ecb21c8d4ad1aebec2d49059c151",
       "value": 1
      }
     },
     "0da294e287ce475f8231dfc8dd4162b5": {
      "model_module": "@jupyter-widgets/controls",
      "model_module_version": "1.5.0",
      "model_name": "HBoxModel",
      "state": {
       "children": [
        "IPY_MODEL_7dc2331a1dc94e878bd4cf1a28d266e1",
        "IPY_MODEL_e54c238796834a07a5d91a719b84bd0a",
        "IPY_MODEL_36d7751345544d938e35a05d5f852e96"
       ],
       "layout": "IPY_MODEL_f92ab71056e342e6beeb9381a16eee9e"
      }
     },
     "0ea4dff1bff54b52a91d101ca491c0f4": {
      "model_module": "@jupyter-widgets/base",
      "model_module_version": "1.2.0",
      "model_name": "LayoutModel",
      "state": {}
     },
     "0ebef00d66e54070b7bada92d1c799b5": {
      "model_module": "jupyter-leaflet",
      "model_module_version": "^0.17.0",
      "model_name": "LeafletIconModel",
      "state": {
       "_model_module_version": "^0.17.0",
       "_view_module_version": "^0.17.0",
       "icon_anchor": [
        12,
        41
       ],
       "icon_size": [
        25,
        41
       ],
       "icon_url": "https://raw.githubusercontent.com/pointhi/leaflet-color-markers/master/img/marker-icon-red.png",
       "options": [
        "icon_anchor",
        "icon_size",
        "icon_url",
        "popup_anchor",
        "shadow_anchor",
        "shadow_size",
        "shadow_url"
       ],
       "popup_anchor": [
        1,
        -34
       ],
       "shadow_size": [
        41,
        41
       ],
       "shadow_url": "https://cdnjs.cloudflare.com/ajax/libs/leaflet/0.7.7/images/marker-shadow.png"
      }
     },
     "11321aa892794f0e8fb25664b234d286": {
      "model_module": "@jupyter-widgets/controls",
      "model_module_version": "1.5.0",
      "model_name": "HTMLModel",
      "state": {
       "layout": "IPY_MODEL_be4070b98986416aa3c154883021e77a",
       "style": "IPY_MODEL_0828cf2ff8b04109bb469cb103730f0e",
       "value": "Bounding Boxes: 100%"
      }
     },
     "115306e864e0438895c401540705aa21": {
      "model_module": "@jupyter-widgets/controls",
      "model_module_version": "1.5.0",
      "model_name": "ProgressStyleModel",
      "state": {
       "description_width": ""
      }
     },
     "14dc5a3924ce4b4f97fffd72a7e4d73a": {
      "model_module": "@jupyter-widgets/base",
      "model_module_version": "1.2.0",
      "model_name": "LayoutModel",
      "state": {}
     },
     "1507fa844f4e42c181dd1ec13ab03257": {
      "model_module": "@jupyter-widgets/controls",
      "model_module_version": "1.5.0",
      "model_name": "ProgressStyleModel",
      "state": {
       "description_width": ""
      }
     },
     "163f581e19f44ecaac376b1e24a51313": {
      "model_module": "@jupyter-widgets/base",
      "model_module_version": "1.2.0",
      "model_name": "LayoutModel",
      "state": {}
     },
     "16e8b40092cf48978203fd8f1c0ef466": {
      "model_module": "@jupyter-widgets/controls",
      "model_module_version": "1.5.0",
      "model_name": "FloatProgressModel",
      "state": {
       "bar_style": "success",
       "layout": "IPY_MODEL_7171e0cec11b4177899b6e579f14bc86",
       "max": 1,
       "style": "IPY_MODEL_f86dc5ac775b40c59961668bdbfb64d4",
       "value": 1
      }
     },
     "1bcfee29c19a48819849e3e3222ca4c4": {
      "model_module": "@jupyter-widgets/controls",
      "model_module_version": "1.5.0",
      "model_name": "DescriptionStyleModel",
      "state": {
       "description_width": ""
      }
     },
     "1e7dc6fe5ec24faf8f4fcda79706febc": {
      "model_module": "@jupyter-widgets/controls",
      "model_module_version": "1.5.0",
      "model_name": "HTMLModel",
      "state": {
       "layout": "IPY_MODEL_f4777678e47b4c76bc44ad914a53b68d",
       "style": "IPY_MODEL_98964ca98e564ca88dc42c5994d2acbc",
       "value": " 1/1 [00:00&lt;00:00,  2.25it/s]"
      }
     },
     "1f64a87d7ec24c74abfcd6f309b9d002": {
      "model_module": "@jupyter-widgets/controls",
      "model_module_version": "1.5.0",
      "model_name": "DescriptionStyleModel",
      "state": {
       "description_width": ""
      }
     },
     "1fe1385dbf3449ad801135124e868121": {
      "model_module": "@jupyter-widgets/base",
      "model_module_version": "1.2.0",
      "model_name": "LayoutModel",
      "state": {}
     },
     "21d84ea5e5cd439daf1fc8591b918a83": {
      "model_module": "@jupyter-widgets/controls",
      "model_module_version": "1.5.0",
      "model_name": "DescriptionStyleModel",
      "state": {
       "description_width": ""
      }
     },
     "2306b4f062ce4f7a9eb732b483ad5b3d": {
      "model_module": "@jupyter-widgets/base",
      "model_module_version": "1.2.0",
      "model_name": "LayoutModel",
      "state": {}
     },
     "270f5485970c4b68be580b435f3f961b": {
      "model_module": "@jupyter-widgets/controls",
      "model_module_version": "1.5.0",
      "model_name": "DescriptionStyleModel",
      "state": {
       "description_width": ""
      }
     },
     "284b009ae76e4703af58f360e59fb739": {
      "model_module": "jupyter-leaflet",
      "model_module_version": "^0.17.0",
      "model_name": "LeafletIconModel",
      "state": {
       "_model_module_version": "^0.17.0",
       "_view_module_version": "^0.17.0",
       "icon_anchor": [
        12,
        41
       ],
       "icon_size": [
        25,
        41
       ],
       "icon_url": "https://raw.githubusercontent.com/pointhi/leaflet-color-markers/master/img/marker-icon-red.png",
       "options": [
        "icon_anchor",
        "icon_size",
        "icon_url",
        "popup_anchor",
        "shadow_anchor",
        "shadow_size",
        "shadow_url"
       ],
       "popup_anchor": [
        1,
        -34
       ],
       "shadow_size": [
        41,
        41
       ],
       "shadow_url": "https://cdnjs.cloudflare.com/ajax/libs/leaflet/0.7.7/images/marker-shadow.png"
      }
     },
     "28d2d89b29824336944f7df55d9a2873": {
      "model_module": "@jupyter-widgets/controls",
      "model_module_version": "1.5.0",
      "model_name": "HBoxModel",
      "state": {
       "children": [
        "IPY_MODEL_8abb88b8c61d4d11b81741226488bc8e",
        "IPY_MODEL_f13e411c5a8c497392684a6788b07c68",
        "IPY_MODEL_c3db71a0aa504447b25526c6ba3d61c0"
       ],
       "layout": "IPY_MODEL_9f00f2f454734653a4aa96f92a1908c7"
      }
     },
     "2961371297cc49959fdc04d5659e4937": {
      "model_module": "@jupyter-widgets/controls",
      "model_module_version": "1.5.0",
      "model_name": "HTMLModel",
      "state": {
       "layout": "IPY_MODEL_ea104620706544c988782bd615c3c6ae",
       "style": "IPY_MODEL_2eb765d2d1e04ff09fb73f45299d293e",
       "value": "Railway Types: 100%"
      }
     },
     "2eb765d2d1e04ff09fb73f45299d293e": {
      "model_module": "@jupyter-widgets/controls",
      "model_module_version": "1.5.0",
      "model_name": "DescriptionStyleModel",
      "state": {
       "description_width": ""
      }
     },
     "3313709781734de9ac0b9e2e1c079a44": {
      "model_module": "@jupyter-widgets/base",
      "model_module_version": "1.2.0",
      "model_name": "LayoutModel",
      "state": {}
     },
     "35a79ade819d4d40b8b874e9280b2b52": {
      "model_module": "@jupyter-widgets/base",
      "model_module_version": "1.2.0",
      "model_name": "LayoutModel",
      "state": {}
     },
     "3644ecd9b6224177b297ee246253156e": {
      "model_module": "@jupyter-widgets/controls",
      "model_module_version": "1.5.0",
      "model_name": "DescriptionStyleModel",
      "state": {
       "description_width": ""
      }
     },
     "3647afa8d48649339e007bc9d034062b": {
      "model_module": "@jupyter-widgets/base",
      "model_module_version": "1.2.0",
      "model_name": "LayoutModel",
      "state": {}
     },
     "36d7751345544d938e35a05d5f852e96": {
      "model_module": "@jupyter-widgets/controls",
      "model_module_version": "1.5.0",
      "model_name": "HTMLModel",
      "state": {
       "layout": "IPY_MODEL_d44990de495f42879e758e2bdd09c204",
       "style": "IPY_MODEL_574023a1e70e46519106aefdc050b16e",
       "value": " 2/2 [00:00&lt;00:00, 29.94it/s]"
      }
     },
     "37463e518a444ed0aa807d32dc6b51f5": {
      "model_module": "@jupyter-widgets/controls",
      "model_module_version": "1.5.0",
      "model_name": "HTMLModel",
      "state": {
       "layout": "IPY_MODEL_e8cb55c032b24ffa9b80fab029a31e00",
       "style": "IPY_MODEL_fe12891e3586437eb12d1410656993e2",
       "value": " 1/1 [00:00&lt;00:00,  2.26it/s]"
      }
     },
     "3791d10748d441c592d2ce0300d5bde3": {
      "model_module": "@jupyter-widgets/base",
      "model_module_version": "1.2.0",
      "model_name": "LayoutModel",
      "state": {}
     },
     "37b907351f2046aaafb40ca0da6f060c": {
      "model_module": "@jupyter-widgets/controls",
      "model_module_version": "1.5.0",
      "model_name": "DescriptionStyleModel",
      "state": {
       "description_width": ""
      }
     },
     "38e47ed10dc14c72809e8552b61164dd": {
      "model_module": "@jupyter-widgets/controls",
      "model_module_version": "1.5.0",
      "model_name": "HBoxModel",
      "state": {
       "children": [
        "IPY_MODEL_60249c93501f43209b7793be31963329",
        "IPY_MODEL_883c20f17af342ff9f1274a13b66227b",
        "IPY_MODEL_ecd7ec2686d743479fb0e12af918f9f6"
       ],
       "layout": "IPY_MODEL_d8cf78f22bfc41f18949cb5e7567c01e"
      }
     },
     "39208097596c45498a926c7dbf642273": {
      "model_module": "@jupyter-widgets/controls",
      "model_module_version": "1.5.0",
      "model_name": "HTMLModel",
      "state": {
       "layout": "IPY_MODEL_608341af59e5445f83c8412bece55dc1",
       "style": "IPY_MODEL_1bcfee29c19a48819849e3e3222ca4c4",
       "value": "Bounding Boxes: 100%"
      }
     },
     "39257fe25e274ac585944da254736306": {
      "model_module": "@jupyter-widgets/base",
      "model_module_version": "1.2.0",
      "model_name": "LayoutModel",
      "state": {}
     },
     "3abfac04a3124b8980756c7b15878aff": {
      "model_module": "@jupyter-widgets/base",
      "model_module_version": "1.2.0",
      "model_name": "LayoutModel",
      "state": {}
     },
     "3c9d58ba6b2d4d008bda93086aa4ac17": {
      "model_module": "jupyter-leaflet",
      "model_module_version": "^0.17.0",
      "model_name": "LeafletTileLayerModel",
      "state": {
       "_model_module_version": "^0.17.0",
       "_view_module_version": "^0.17.0",
       "max_zoom": 19,
       "name": "OpenStreetMap BW",
       "options": [
        "attribution",
        "bounds",
        "detect_retina",
        "max_native_zoom",
        "max_zoom",
        "min_native_zoom",
        "min_zoom",
        "no_wrap",
        "tile_size",
        "tms"
       ],
       "url": "https://{s}.tiles.wmflabs.org/bw-mapnik/{z}/{x}/{y}.png"
      }
     },
     "3e385ac7875a40a099a592fea41f49b5": {
      "model_module": "@jupyter-widgets/controls",
      "model_module_version": "1.5.0",
      "model_name": "ProgressStyleModel",
      "state": {
       "description_width": ""
      }
     },
     "3ebdfea8146d4fd28b438588fc021f63": {
      "model_module": "@jupyter-widgets/base",
      "model_module_version": "1.2.0",
      "model_name": "LayoutModel",
      "state": {}
     },
     "401afbfa6bed4804a95b7f49a4654160": {
      "model_module": "@jupyter-widgets/controls",
      "model_module_version": "1.5.0",
      "model_name": "FloatProgressModel",
      "state": {
       "bar_style": "success",
       "layout": "IPY_MODEL_3abfac04a3124b8980756c7b15878aff",
       "max": 1,
       "style": "IPY_MODEL_115306e864e0438895c401540705aa21",
       "value": 1
      }
     },
     "40b7002685784b7d89e6a78c62a48103": {
      "model_module": "@jupyter-widgets/controls",
      "model_module_version": "1.5.0",
      "model_name": "DescriptionStyleModel",
      "state": {
       "description_width": ""
      }
     },
     "441d24cdab57470b93dcddc800a6f708": {
      "model_module": "@jupyter-widgets/controls",
      "model_module_version": "1.5.0",
      "model_name": "ProgressStyleModel",
      "state": {
       "description_width": ""
      }
     },
     "48d4face2a344340ac2b46afaad0f6d1": {
      "model_module": "@jupyter-widgets/base",
      "model_module_version": "1.2.0",
      "model_name": "LayoutModel",
      "state": {}
     },
     "4c2d6cce6574436a8f6362efaeb2c932": {
      "model_module": "@jupyter-widgets/controls",
      "model_module_version": "1.5.0",
      "model_name": "DescriptionStyleModel",
      "state": {
       "description_width": ""
      }
     },
     "4d888fe4cba14c77841bdef01a46ac53": {
      "model_module": "@jupyter-widgets/controls",
      "model_module_version": "1.5.0",
      "model_name": "HBoxModel",
      "state": {
       "children": [
        "IPY_MODEL_5541f70745104c38b9c4a93530f0a751",
        "IPY_MODEL_be0d125dcc6a409b917f9e3f31bede94",
        "IPY_MODEL_e882c91f49f04a4bae8fd1b7dcc14a2b"
       ],
       "layout": "IPY_MODEL_6e064cfb1c7f4b139e408a8da1b47584"
      }
     },
     "4e00bed9301c4b3480d3d5fa064f061c": {
      "model_module": "@jupyter-widgets/controls",
      "model_module_version": "1.5.0",
      "model_name": "DescriptionStyleModel",
      "state": {
       "description_width": ""
      }
     },
     "4f0d3634d8cd479889a69c88bf0352e7": {
      "model_module": "@jupyter-widgets/base",
      "model_module_version": "1.2.0",
      "model_name": "LayoutModel",
      "state": {}
     },
     "5053e412829745cdb8f5bd5bce410de9": {
      "model_module": "@jupyter-widgets/controls",
      "model_module_version": "1.5.0",
      "model_name": "ProgressStyleModel",
      "state": {
       "description_width": ""
      }
     },
     "51799ce0ee624014841585e145973b3e": {
      "model_module": "@jupyter-widgets/controls",
      "model_module_version": "1.5.0",
      "model_name": "HBoxModel",
      "state": {
       "children": [
        "IPY_MODEL_74dc481b75814d479b59a74dd6cf2e1a",
        "IPY_MODEL_16e8b40092cf48978203fd8f1c0ef466",
        "IPY_MODEL_ccc40cb71e644e758d87aff4910047a4"
       ],
       "layout": "IPY_MODEL_db2ca1306d754035be5623eeac9310bc"
      }
     },
     "531826c2d33343589d441bc3a33da451": {
      "model_module": "@jupyter-widgets/controls",
      "model_module_version": "1.5.0",
      "model_name": "DescriptionStyleModel",
      "state": {
       "description_width": ""
      }
     },
     "5541f70745104c38b9c4a93530f0a751": {
      "model_module": "@jupyter-widgets/controls",
      "model_module_version": "1.5.0",
      "model_name": "HTMLModel",
      "state": {
       "layout": "IPY_MODEL_83791318db694dae8024f54805ccfaeb",
       "style": "IPY_MODEL_4e00bed9301c4b3480d3d5fa064f061c",
       "value": "Bounding Boxes: 100%"
      }
     },
     "574023a1e70e46519106aefdc050b16e": {
      "model_module": "@jupyter-widgets/controls",
      "model_module_version": "1.5.0",
      "model_name": "DescriptionStyleModel",
      "state": {
       "description_width": ""
      }
     },
     "5af4fa5ac6044efd9117f87a0e6c71a2": {
      "model_module": "@jupyter-widgets/base",
      "model_module_version": "1.2.0",
      "model_name": "LayoutModel",
      "state": {}
     },
     "5da658e548164dd9b08f45a731df1515": {
      "model_module": "@jupyter-widgets/base",
      "model_module_version": "1.2.0",
      "model_name": "LayoutModel",
      "state": {}
     },
     "60249c93501f43209b7793be31963329": {
      "model_module": "@jupyter-widgets/controls",
      "model_module_version": "1.5.0",
      "model_name": "HTMLModel",
      "state": {
       "layout": "IPY_MODEL_02794218a61b408a9b728389acecb3bf",
       "style": "IPY_MODEL_3644ecd9b6224177b297ee246253156e",
       "value": "Railway Types: 100%"
      }
     },
     "608341af59e5445f83c8412bece55dc1": {
      "model_module": "@jupyter-widgets/base",
      "model_module_version": "1.2.0",
      "model_name": "LayoutModel",
      "state": {}
     },
     "60fa0e1c17004573b20b6cec2d25262a": {
      "model_module": "@jupyter-widgets/controls",
      "model_module_version": "1.5.0",
      "model_name": "DescriptionStyleModel",
      "state": {
       "description_width": ""
      }
     },
     "6411c50e4f4f4eccb1ba4d8090eb1471": {
      "model_module": "@jupyter-widgets/controls",
      "model_module_version": "1.5.0",
      "model_name": "FloatProgressModel",
      "state": {
       "bar_style": "success",
       "layout": "IPY_MODEL_5af4fa5ac6044efd9117f87a0e6c71a2",
       "max": 1,
       "style": "IPY_MODEL_5053e412829745cdb8f5bd5bce410de9",
       "value": 1
      }
     },
     "653fa9e655e24ca187108dce6abf7e4f": {
      "model_module": "@jupyter-widgets/controls",
      "model_module_version": "1.5.0",
      "model_name": "FloatProgressModel",
      "state": {
       "bar_style": "success",
       "layout": "IPY_MODEL_d52fb5399e0f4449be3b5e841ceca35e",
       "max": 1,
       "style": "IPY_MODEL_1507fa844f4e42c181dd1ec13ab03257",
       "value": 1
      }
     },
     "6648bbd1811b428f8e4e299460942276": {
      "model_module": "@jupyter-widgets/controls",
      "model_module_version": "1.5.0",
      "model_name": "ProgressStyleModel",
      "state": {
       "description_width": ""
      }
     },
     "6c3fd64949384d1fab27784c7f364dbd": {
      "model_module": "@jupyter-widgets/controls",
      "model_module_version": "1.5.0",
      "model_name": "ProgressStyleModel",
      "state": {
       "description_width": ""
      }
     },
     "6cc87048431e40d4b822f5a8f9e7fef5": {
      "model_module": "@jupyter-widgets/controls",
      "model_module_version": "1.5.0",
      "model_name": "HTMLModel",
      "state": {
       "layout": "IPY_MODEL_7b49ec2be6cd4043b8a89d73d82158f7",
       "style": "IPY_MODEL_e229a12b59ad40fbab18abc4f71e334d",
       "value": " 1/1 [01:15&lt;00:00, 75.66s/it]"
      }
     },
     "6e064cfb1c7f4b139e408a8da1b47584": {
      "model_module": "@jupyter-widgets/base",
      "model_module_version": "1.2.0",
      "model_name": "LayoutModel",
      "state": {}
     },
     "6fbf81d890f947b09f0f1f59644cf344": {
      "model_module": "@jupyter-widgets/controls",
      "model_module_version": "1.5.0",
      "model_name": "HBoxModel",
      "state": {
       "children": [
        "IPY_MODEL_82a4cf8acbb140c8b5a93a43526d014b",
        "IPY_MODEL_a27403d0b65a459b9ef23d4db1a10e22",
        "IPY_MODEL_e463dfebcdc647b79743f74eb49c1274"
       ],
       "layout": "IPY_MODEL_7329d1a677de4a0a838e15f5d4dd3b24"
      }
     },
     "70effa515601424c8f51105fd22d548b": {
      "model_module": "@jupyter-widgets/controls",
      "model_module_version": "1.5.0",
      "model_name": "DescriptionStyleModel",
      "state": {
       "description_width": ""
      }
     },
     "7130f8b374764217b42aafb1fcb607c8": {
      "model_module": "@jupyter-widgets/controls",
      "model_module_version": "1.5.0",
      "model_name": "HTMLModel",
      "state": {
       "layout": "IPY_MODEL_c1d6800ced934dca9a090d384c80b719",
       "style": "IPY_MODEL_f3d4688855b84eb2b00742b7c6ec1667",
       "value": " 1/1 [00:00&lt;00:00,  1.85it/s]"
      }
     },
     "7171e0cec11b4177899b6e579f14bc86": {
      "model_module": "@jupyter-widgets/base",
      "model_module_version": "1.2.0",
      "model_name": "LayoutModel",
      "state": {}
     },
     "7329d1a677de4a0a838e15f5d4dd3b24": {
      "model_module": "@jupyter-widgets/base",
      "model_module_version": "1.2.0",
      "model_name": "LayoutModel",
      "state": {}
     },
     "73a8a6b580394f38985e6505acff3112": {
      "model_module": "jupyter-leaflet",
      "model_module_version": "^0.17.0",
      "model_name": "LeafletTileLayerModel",
      "state": {
       "_model_module_version": "^0.17.0",
       "_view_module_version": "^0.17.0",
       "max_zoom": 19,
       "name": "OpenStreetMap BW",
       "options": [
        "attribution",
        "bounds",
        "detect_retina",
        "max_native_zoom",
        "max_zoom",
        "min_native_zoom",
        "min_zoom",
        "no_wrap",
        "tile_size",
        "tms"
       ],
       "url": "https://{s}.tiles.wmflabs.org/bw-mapnik/{z}/{x}/{y}.png"
      }
     },
     "7451e198780642b6b69fcf43bddf0457": {
      "model_module": "@jupyter-widgets/controls",
      "model_module_version": "1.5.0",
      "model_name": "FloatProgressModel",
      "state": {
       "bar_style": "success",
       "layout": "IPY_MODEL_fa362689aec04d978fe67c7fa2ef5fa5",
       "max": 1,
       "style": "IPY_MODEL_6648bbd1811b428f8e4e299460942276",
       "value": 1
      }
     },
     "74dc481b75814d479b59a74dd6cf2e1a": {
      "model_module": "@jupyter-widgets/controls",
      "model_module_version": "1.5.0",
      "model_name": "HTMLModel",
      "state": {
       "layout": "IPY_MODEL_2306b4f062ce4f7a9eb732b483ad5b3d",
       "style": "IPY_MODEL_788bef24b1e7450c963b5ad111d78b0e",
       "value": "File Import: 100%"
      }
     },
     "75e6850c70124e5db1632868c35144d3": {
      "model_module": "jupyter-leaflet",
      "model_module_version": "^0.17.0",
      "model_name": "LeafletTileLayerModel",
      "state": {
       "_model_module_version": "^0.17.0",
       "_view_module_version": "^0.17.0",
       "attribution": "<a href=\"https://www.openstreetmap.org/copyright\">© OpenStreetMap contributors</a>, Style: <a href=\"http://creativecommons.org/licenses/by-sa/2.0/\">CC-BY-SA 2.0</a> <a href=\"http://www.openrailwaymap.org/\">OpenRailwayMap</a> and OpenStreetMap",
       "max_zoom": 19,
       "name": "OpenRailwayMap",
       "options": [
        "attribution",
        "bounds",
        "detect_retina",
        "max_native_zoom",
        "max_zoom",
        "min_native_zoom",
        "min_zoom",
        "no_wrap",
        "tile_size",
        "tms"
       ],
       "url": "https://{s}.tiles.openrailwaymap.org/standard/{z}/{x}/{y}.png"
      }
     },
     "788bef24b1e7450c963b5ad111d78b0e": {
      "model_module": "@jupyter-widgets/controls",
      "model_module_version": "1.5.0",
      "model_name": "DescriptionStyleModel",
      "state": {
       "description_width": ""
      }
     },
     "7b49ec2be6cd4043b8a89d73d82158f7": {
      "model_module": "@jupyter-widgets/base",
      "model_module_version": "1.2.0",
      "model_name": "LayoutModel",
      "state": {}
     },
     "7c0e6204ba4c4baea8aaffa5b04fd718": {
      "model_module": "@jupyter-widgets/controls",
      "model_module_version": "1.5.0",
      "model_name": "ProgressStyleModel",
      "state": {
       "description_width": ""
      }
     },
     "7dc2331a1dc94e878bd4cf1a28d266e1": {
      "model_module": "@jupyter-widgets/controls",
      "model_module_version": "1.5.0",
      "model_name": "HTMLModel",
      "state": {
       "layout": "IPY_MODEL_cd3eb9208de14bb19232db826a29b0c6",
       "style": "IPY_MODEL_e3e89e491bb44aa48085b9c25c4fd0ce",
       "value": "File Import: 100%"
      }
     },
     "7ee304200e614daab78a25b424923044": {
      "model_module": "@jupyter-widgets/controls",
      "model_module_version": "1.5.0",
      "model_name": "DescriptionStyleModel",
      "state": {
       "description_width": ""
      }
     },
     "82a4cf8acbb140c8b5a93a43526d014b": {
      "model_module": "@jupyter-widgets/controls",
      "model_module_version": "1.5.0",
      "model_name": "HTMLModel",
      "state": {
       "layout": "IPY_MODEL_35a79ade819d4d40b8b874e9280b2b52",
       "style": "IPY_MODEL_d55701db3b7141c7a3bfb8af4a47e2c0",
       "value": "Railway Types: 100%"
      }
     },
     "83791318db694dae8024f54805ccfaeb": {
      "model_module": "@jupyter-widgets/base",
      "model_module_version": "1.2.0",
      "model_name": "LayoutModel",
      "state": {}
     },
     "858c068e0f9748fcb0665dfff805fc62": {
      "model_module": "@jupyter-widgets/base",
      "model_module_version": "1.2.0",
      "model_name": "LayoutModel",
      "state": {}
     },
     "883c20f17af342ff9f1274a13b66227b": {
      "model_module": "@jupyter-widgets/controls",
      "model_module_version": "1.5.0",
      "model_name": "FloatProgressModel",
      "state": {
       "bar_style": "success",
       "layout": "IPY_MODEL_163f581e19f44ecaac376b1e24a51313",
       "max": 1,
       "style": "IPY_MODEL_a51bcc7d499f457994d763d7fcf82eec",
       "value": 1
      }
     },
     "8996b5b3934d42d6a1f9d6fe17627e22": {
      "model_module": "@jupyter-widgets/controls",
      "model_module_version": "1.5.0",
      "model_name": "HBoxModel",
      "state": {
       "children": [
        "IPY_MODEL_d2495e35c57c499294a9d3cd2c3728b7",
        "IPY_MODEL_6411c50e4f4f4eccb1ba4d8090eb1471",
        "IPY_MODEL_37463e518a444ed0aa807d32dc6b51f5"
       ],
       "layout": "IPY_MODEL_9f07ebbe06c14b6b9a620d4bdde47081"
      }
     },
     "8a0cda6557a34aca95560c5cc84fbded": {
      "model_module": "@jupyter-widgets/controls",
      "model_module_version": "1.5.0",
      "model_name": "DescriptionStyleModel",
      "state": {
       "description_width": ""
      }
     },
     "8abb88b8c61d4d11b81741226488bc8e": {
      "model_module": "@jupyter-widgets/controls",
      "model_module_version": "1.5.0",
      "model_name": "HTMLModel",
      "state": {
       "layout": "IPY_MODEL_fe0af55f4ed54c938ec9c6f92547269b",
       "style": "IPY_MODEL_270f5485970c4b68be580b435f3f961b",
       "value": "Bounding Boxes: 100%"
      }
     },
     "8d7c05f928c84b2283fcab8cc558be98": {
      "model_module": "@jupyter-widgets/base",
      "model_module_version": "1.2.0",
      "model_name": "LayoutModel",
      "state": {}
     },
     "8ea9d887b2da420cbd87b0e32c6cc6ba": {
      "model_module": "@jupyter-widgets/controls",
      "model_module_version": "1.5.0",
      "model_name": "HTMLModel",
      "state": {
       "layout": "IPY_MODEL_ed8cc1d6d41748128ba727b0cd87e2e5",
       "style": "IPY_MODEL_03a2661968954466891e70f04a31f977",
       "value": " 1/1 [00:00&lt;00:00,  1.51it/s]"
      }
     },
     "8f42f047ce97496a9ede328620935f03": {
      "model_module": "jupyter-leaflet",
      "model_module_version": "^0.17.0",
      "model_name": "LeafletIconModel",
      "state": {
       "_model_module_version": "^0.17.0",
       "_view_module_version": "^0.17.0",
       "icon_anchor": [
        12,
        41
       ],
       "icon_size": [
        25,
        41
       ],
       "icon_url": "https://raw.githubusercontent.com/pointhi/leaflet-color-markers/master/img/marker-icon-green.png",
       "options": [
        "icon_anchor",
        "icon_size",
        "icon_url",
        "popup_anchor",
        "shadow_anchor",
        "shadow_size",
        "shadow_url"
       ],
       "popup_anchor": [
        1,
        -34
       ],
       "shadow_size": [
        41,
        41
       ],
       "shadow_url": "https://cdnjs.cloudflare.com/ajax/libs/leaflet/0.7.7/images/marker-shadow.png"
      }
     },
     "903621daed7c45efbe9ba691d95d8248": {
      "model_module": "@jupyter-widgets/base",
      "model_module_version": "1.2.0",
      "model_name": "LayoutModel",
      "state": {}
     },
     "9041aa2336034067aaaa5e8a42be1c0f": {
      "model_module": "@jupyter-widgets/controls",
      "model_module_version": "1.5.0",
      "model_name": "HBoxModel",
      "state": {
       "children": [
        "IPY_MODEL_11321aa892794f0e8fb25664b234d286",
        "IPY_MODEL_7451e198780642b6b69fcf43bddf0457",
        "IPY_MODEL_1e7dc6fe5ec24faf8f4fcda79706febc"
       ],
       "layout": "IPY_MODEL_98d744bccd4a4c9684988ed5b226ce2d"
      }
     },
     "9317e7ee4a3746a78576354eac4392ff": {
      "model_module": "@jupyter-widgets/controls",
      "model_module_version": "1.5.0",
      "model_name": "FloatProgressModel",
      "state": {
       "bar_style": "success",
       "layout": "IPY_MODEL_e26d30598f344e7facce4f0ddb475437",
       "max": 1,
       "style": "IPY_MODEL_7c0e6204ba4c4baea8aaffa5b04fd718",
       "value": 1
      }
     },
     "9325b132cbe64fccade600b15c087d67": {
      "model_module": "@jupyter-widgets/controls",
      "model_module_version": "1.5.0",
      "model_name": "ProgressStyleModel",
      "state": {
       "description_width": ""
      }
     },
     "93270fec0b0848faa694080eb945cfa4": {
      "model_module": "@jupyter-widgets/base",
      "model_module_version": "1.2.0",
      "model_name": "LayoutModel",
      "state": {}
     },
     "9383361481d64eeda161865d5a87d6f6": {
      "model_module": "@jupyter-widgets/controls",
      "model_module_version": "1.5.0",
      "model_name": "HBoxModel",
      "state": {
       "children": [
        "IPY_MODEL_f7870b7815ea440294bbd0e6b6cf8362",
        "IPY_MODEL_9317e7ee4a3746a78576354eac4392ff",
        "IPY_MODEL_7130f8b374764217b42aafb1fcb607c8"
       ],
       "layout": "IPY_MODEL_e2f7f274d94a47e3af368a1b65ec39d6"
      }
     },
     "939799fc82c64124acf0a0928fa342d6": {
      "model_module": "@jupyter-widgets/controls",
      "model_module_version": "1.5.0",
      "model_name": "DescriptionStyleModel",
      "state": {
       "description_width": ""
      }
     },
     "9467f56287564bacab3e809429a9f239": {
      "model_module": "@jupyter-widgets/base",
      "model_module_version": "1.2.0",
      "model_name": "LayoutModel",
      "state": {}
     },
     "96040ebd92494c7fae50cc23e3167ecb": {
      "model_module": "@jupyter-widgets/controls",
      "model_module_version": "1.5.0",
      "model_name": "DescriptionStyleModel",
      "state": {
       "description_width": ""
      }
     },
     "974fa7c3cd534c35adab49d70da5c9be": {
      "model_module": "@jupyter-widgets/controls",
      "model_module_version": "1.5.0",
      "model_name": "FloatProgressModel",
      "state": {
       "bar_style": "success",
       "layout": "IPY_MODEL_bb5b9e5559034a018fe95336b1cfb3e7",
       "max": 1,
       "style": "IPY_MODEL_addcc619c9d1447ababd974012866e3f",
       "value": 1
      }
     },
     "98964ca98e564ca88dc42c5994d2acbc": {
      "model_module": "@jupyter-widgets/controls",
      "model_module_version": "1.5.0",
      "model_name": "DescriptionStyleModel",
      "state": {
       "description_width": ""
      }
     },
     "98d744bccd4a4c9684988ed5b226ce2d": {
      "model_module": "@jupyter-widgets/base",
      "model_module_version": "1.2.0",
      "model_name": "LayoutModel",
      "state": {}
     },
     "9ef05f1da69f4994a2c0d24a32251d7a": {
      "model_module": "@jupyter-widgets/base",
      "model_module_version": "1.2.0",
      "model_name": "LayoutModel",
      "state": {}
     },
     "9f00f2f454734653a4aa96f92a1908c7": {
      "model_module": "@jupyter-widgets/base",
      "model_module_version": "1.2.0",
      "model_name": "LayoutModel",
      "state": {}
     },
     "9f07ebbe06c14b6b9a620d4bdde47081": {
      "model_module": "@jupyter-widgets/base",
      "model_module_version": "1.2.0",
      "model_name": "LayoutModel",
      "state": {}
     },
     "a1c6711a19674a3b99d100610c0ad2b5": {
      "model_module": "@jupyter-widgets/controls",
      "model_module_version": "1.5.0",
      "model_name": "HTMLModel",
      "state": {
       "layout": "IPY_MODEL_c8ab5edcac2249b3b220147d2fe54400",
       "style": "IPY_MODEL_60fa0e1c17004573b20b6cec2d25262a",
       "value": "File Import: 100%"
      }
     },
     "a27403d0b65a459b9ef23d4db1a10e22": {
      "model_module": "@jupyter-widgets/controls",
      "model_module_version": "1.5.0",
      "model_name": "FloatProgressModel",
      "state": {
       "bar_style": "success",
       "layout": "IPY_MODEL_3791d10748d441c592d2ce0300d5bde3",
       "max": 1,
       "style": "IPY_MODEL_c482b2773168496faf2e258377eea20f",
       "value": 1
      }
     },
     "a2ef351e0b2548d89b6e9e1bfee22151": {
      "model_module": "@jupyter-widgets/base",
      "model_module_version": "1.2.0",
      "model_name": "LayoutModel",
      "state": {}
     },
     "a51bcc7d499f457994d763d7fcf82eec": {
      "model_module": "@jupyter-widgets/controls",
      "model_module_version": "1.5.0",
      "model_name": "ProgressStyleModel",
      "state": {
       "description_width": ""
      }
     },
     "addcc619c9d1447ababd974012866e3f": {
      "model_module": "@jupyter-widgets/controls",
      "model_module_version": "1.5.0",
      "model_name": "ProgressStyleModel",
      "state": {
       "description_width": ""
      }
     },
     "af72d3395d37489e8dba52d6439f5ce1": {
      "model_module": "@jupyter-widgets/controls",
      "model_module_version": "1.5.0",
      "model_name": "HTMLModel",
      "state": {
       "layout": "IPY_MODEL_3647afa8d48649339e007bc9d034062b",
       "style": "IPY_MODEL_4c2d6cce6574436a8f6362efaeb2c932",
       "value": "Railway Types: 100%"
      }
     },
     "b32ee3cbb1b5435d9b10e79c290ad28f": {
      "model_module": "@jupyter-widgets/controls",
      "model_module_version": "1.5.0",
      "model_name": "HBoxModel",
      "state": {
       "children": [
        "IPY_MODEL_b6ae42eee5f842919b7af2f1ab87d454",
        "IPY_MODEL_974fa7c3cd534c35adab49d70da5c9be",
        "IPY_MODEL_bd343a13cd694798b3c327a75080c7c8"
       ],
       "layout": "IPY_MODEL_903621daed7c45efbe9ba691d95d8248"
      }
     },
     "b526508da84f4d2cbefe9950e54b89dc": {
      "model_module": "@jupyter-widgets/base",
      "model_module_version": "1.2.0",
      "model_name": "LayoutModel",
      "state": {}
     },
     "b6ae42eee5f842919b7af2f1ab87d454": {
      "model_module": "@jupyter-widgets/controls",
      "model_module_version": "1.5.0",
      "model_name": "HTMLModel",
      "state": {
       "layout": "IPY_MODEL_3ebdfea8146d4fd28b438588fc021f63",
       "style": "IPY_MODEL_939799fc82c64124acf0a0928fa342d6",
       "value": "File Import: 100%"
      }
     },
     "bb5b9e5559034a018fe95336b1cfb3e7": {
      "model_module": "@jupyter-widgets/base",
      "model_module_version": "1.2.0",
      "model_name": "LayoutModel",
      "state": {}
     },
     "bb9fe2fdd31844ac827b07a368da46e9": {
      "model_module": "@jupyter-widgets/controls",
      "model_module_version": "1.5.0",
      "model_name": "HTMLModel",
      "state": {
       "layout": "IPY_MODEL_48d4face2a344340ac2b46afaad0f6d1",
       "style": "IPY_MODEL_70effa515601424c8f51105fd22d548b",
       "value": " 1/1 [01:15&lt;00:00, 75.67s/it]"
      }
     },
     "bd343a13cd694798b3c327a75080c7c8": {
      "model_module": "@jupyter-widgets/controls",
      "model_module_version": "1.5.0",
      "model_name": "HTMLModel",
      "state": {
       "layout": "IPY_MODEL_3313709781734de9ac0b9e2e1c079a44",
       "style": "IPY_MODEL_e62fe28360304bfea80fb2f38f5710b4",
       "value": " 1/1 [00:01&lt;00:00,  1.07s/it]"
      }
     },
     "be0d125dcc6a409b917f9e3f31bede94": {
      "model_module": "@jupyter-widgets/controls",
      "model_module_version": "1.5.0",
      "model_name": "FloatProgressModel",
      "state": {
       "bar_style": "success",
       "layout": "IPY_MODEL_c33c30e3610e43ba95c0483f3a2a4e9d",
       "max": 1,
       "style": "IPY_MODEL_9325b132cbe64fccade600b15c087d67",
       "value": 1
      }
     },
     "be4070b98986416aa3c154883021e77a": {
      "model_module": "@jupyter-widgets/base",
      "model_module_version": "1.2.0",
      "model_name": "LayoutModel",
      "state": {}
     },
     "c1d6800ced934dca9a090d384c80b719": {
      "model_module": "@jupyter-widgets/base",
      "model_module_version": "1.2.0",
      "model_name": "LayoutModel",
      "state": {}
     },
     "c33c30e3610e43ba95c0483f3a2a4e9d": {
      "model_module": "@jupyter-widgets/base",
      "model_module_version": "1.2.0",
      "model_name": "LayoutModel",
      "state": {}
     },
     "c3db71a0aa504447b25526c6ba3d61c0": {
      "model_module": "@jupyter-widgets/controls",
      "model_module_version": "1.5.0",
      "model_name": "HTMLModel",
      "state": {
       "layout": "IPY_MODEL_dd8099278c564b68a379ae9a2cd82623",
       "style": "IPY_MODEL_96040ebd92494c7fae50cc23e3167ecb",
       "value": " 1/1 [00:00&lt;00:00,  2.20it/s]"
      }
     },
     "c482b2773168496faf2e258377eea20f": {
      "model_module": "@jupyter-widgets/controls",
      "model_module_version": "1.5.0",
      "model_name": "ProgressStyleModel",
      "state": {
       "description_width": ""
      }
     },
     "c7d13cc6247446709801062f9d56422c": {
      "model_module": "@jupyter-widgets/controls",
      "model_module_version": "1.5.0",
      "model_name": "DescriptionStyleModel",
      "state": {
       "description_width": ""
      }
     },
     "c8ab5edcac2249b3b220147d2fe54400": {
      "model_module": "@jupyter-widgets/base",
      "model_module_version": "1.2.0",
      "model_name": "LayoutModel",
      "state": {}
     },
     "ccc40cb71e644e758d87aff4910047a4": {
      "model_module": "@jupyter-widgets/controls",
      "model_module_version": "1.5.0",
      "model_name": "HTMLModel",
      "state": {
       "layout": "IPY_MODEL_0905e43112d84ad68b94c2fe829c2a34",
       "style": "IPY_MODEL_1f64a87d7ec24c74abfcd6f309b9d002",
       "value": " 1/1 [00:00&lt;00:00,  1.02it/s]"
      }
     },
     "cd3eb9208de14bb19232db826a29b0c6": {
      "model_module": "@jupyter-widgets/base",
      "model_module_version": "1.2.0",
      "model_name": "LayoutModel",
      "state": {}
     },
     "cd86f236ca7d49bfac0e87ffcefe5a85": {
      "model_module": "@jupyter-widgets/controls",
      "model_module_version": "1.5.0",
      "model_name": "DescriptionStyleModel",
      "state": {
       "description_width": ""
      }
     },
     "d0d76e29c7f5439c955975305526eb24": {
      "model_module": "@jupyter-widgets/base",
      "model_module_version": "1.2.0",
      "model_name": "LayoutModel",
      "state": {}
     },
     "d2495e35c57c499294a9d3cd2c3728b7": {
      "model_module": "@jupyter-widgets/controls",
      "model_module_version": "1.5.0",
      "model_name": "HTMLModel",
      "state": {
       "layout": "IPY_MODEL_fcb197bf5c454c8ebe5d8b171375254d",
       "style": "IPY_MODEL_8a0cda6557a34aca95560c5cc84fbded",
       "value": "Railway Types: 100%"
      }
     },
     "d28a0a5753034feeb6b65c47e98785cd": {
      "model_module": "@jupyter-widgets/base",
      "model_module_version": "1.2.0",
      "model_name": "LayoutModel",
      "state": {}
     },
     "d44990de495f42879e758e2bdd09c204": {
      "model_module": "@jupyter-widgets/base",
      "model_module_version": "1.2.0",
      "model_name": "LayoutModel",
      "state": {}
     },
     "d52fb5399e0f4449be3b5e841ceca35e": {
      "model_module": "@jupyter-widgets/base",
      "model_module_version": "1.2.0",
      "model_name": "LayoutModel",
      "state": {}
     },
     "d55701db3b7141c7a3bfb8af4a47e2c0": {
      "model_module": "@jupyter-widgets/controls",
      "model_module_version": "1.5.0",
      "model_name": "DescriptionStyleModel",
      "state": {
       "description_width": ""
      }
     },
     "d775b12d48af415b924b0fc8add93584": {
      "model_module": "jupyter-leaflet",
      "model_module_version": "^0.17.0",
      "model_name": "LeafletTileLayerModel",
      "state": {
       "_model_module_version": "^0.17.0",
       "_view_module_version": "^0.17.0",
       "max_zoom": 19,
       "name": "OpenStreetMap",
       "options": [
        "attribution",
        "bounds",
        "detect_retina",
        "max_native_zoom",
        "max_zoom",
        "min_native_zoom",
        "min_zoom",
        "no_wrap",
        "tile_size",
        "tms"
       ],
       "url": "https://{s}.tile.openstreetmap.de/{z}/{x}/{y}.png"
      }
     },
     "d7ceb93b176a49f992e54016fd64746a": {
      "model_module": "@jupyter-widgets/controls",
      "model_module_version": "1.5.0",
      "model_name": "HBoxModel",
      "state": {
       "children": [
        "IPY_MODEL_2961371297cc49959fdc04d5659e4937",
        "IPY_MODEL_0c678934e61942e39704ec70d62a4358",
        "IPY_MODEL_ea1dadbe1d984302bc1ec5972f7a6a32"
       ],
       "layout": "IPY_MODEL_ed18638d0806464384784e4e55df7b61"
      }
     },
     "d8cf78f22bfc41f18949cb5e7567c01e": {
      "model_module": "@jupyter-widgets/base",
      "model_module_version": "1.2.0",
      "model_name": "LayoutModel",
      "state": {}
     },
     "d931fd40ea4644c086c3305ceb43cfa7": {
      "model_module": "@jupyter-widgets/controls",
      "model_module_version": "1.5.0",
      "model_name": "HBoxModel",
      "state": {
       "children": [
        "IPY_MODEL_39208097596c45498a926c7dbf642273",
        "IPY_MODEL_401afbfa6bed4804a95b7f49a4654160",
        "IPY_MODEL_bb9fe2fdd31844ac827b07a368da46e9"
       ],
       "layout": "IPY_MODEL_8d7c05f928c84b2283fcab8cc558be98"
      }
     },
     "db2ca1306d754035be5623eeac9310bc": {
      "model_module": "@jupyter-widgets/base",
      "model_module_version": "1.2.0",
      "model_name": "LayoutModel",
      "state": {}
     },
     "dd8099278c564b68a379ae9a2cd82623": {
      "model_module": "@jupyter-widgets/base",
      "model_module_version": "1.2.0",
      "model_name": "LayoutModel",
      "state": {}
     },
     "e193bf8df5f640079f1bbb2acbd8c9bf": {
      "model_module": "@jupyter-widgets/controls",
      "model_module_version": "1.5.0",
      "model_name": "HBoxModel",
      "state": {
       "children": [
        "IPY_MODEL_a1c6711a19674a3b99d100610c0ad2b5",
        "IPY_MODEL_f5a4758b5f394d538ac267b61091085e",
        "IPY_MODEL_8ea9d887b2da420cbd87b0e32c6cc6ba"
       ],
       "layout": "IPY_MODEL_d28a0a5753034feeb6b65c47e98785cd"
      }
     },
     "e229a12b59ad40fbab18abc4f71e334d": {
      "model_module": "@jupyter-widgets/controls",
      "model_module_version": "1.5.0",
      "model_name": "DescriptionStyleModel",
      "state": {
       "description_width": ""
      }
     },
     "e26d30598f344e7facce4f0ddb475437": {
      "model_module": "@jupyter-widgets/base",
      "model_module_version": "1.2.0",
      "model_name": "LayoutModel",
      "state": {}
     },
     "e2f7f274d94a47e3af368a1b65ec39d6": {
      "model_module": "@jupyter-widgets/base",
      "model_module_version": "1.2.0",
      "model_name": "LayoutModel",
      "state": {}
     },
     "e3e89e491bb44aa48085b9c25c4fd0ce": {
      "model_module": "@jupyter-widgets/controls",
      "model_module_version": "1.5.0",
      "model_name": "DescriptionStyleModel",
      "state": {
       "description_width": ""
      }
     },
     "e463dfebcdc647b79743f74eb49c1274": {
      "model_module": "@jupyter-widgets/controls",
      "model_module_version": "1.5.0",
      "model_name": "HTMLModel",
      "state": {
       "layout": "IPY_MODEL_1fe1385dbf3449ad801135124e868121",
       "style": "IPY_MODEL_c7d13cc6247446709801062f9d56422c",
       "value": " 1/1 [00:00&lt;00:00,  2.19it/s]"
      }
     },
     "e54c238796834a07a5d91a719b84bd0a": {
      "model_module": "@jupyter-widgets/controls",
      "model_module_version": "1.5.0",
      "model_name": "FloatProgressModel",
      "state": {
       "bar_style": "success",
       "layout": "IPY_MODEL_eeb1ae88028d421b83fc7967e3f317e2",
       "max": 2,
       "style": "IPY_MODEL_6c3fd64949384d1fab27784c7f364dbd",
       "value": 2
      }
     },
     "e5f62ddd51064eaf8214c2d319d9594f": {
      "model_module": "@jupyter-widgets/controls",
      "model_module_version": "1.5.0",
      "model_name": "FloatProgressModel",
      "state": {
       "bar_style": "success",
       "layout": "IPY_MODEL_858c068e0f9748fcb0665dfff805fc62",
       "max": 1,
       "style": "IPY_MODEL_441d24cdab57470b93dcddc800a6f708",
       "value": 1
      }
     },
     "e62fe28360304bfea80fb2f38f5710b4": {
      "model_module": "@jupyter-widgets/controls",
      "model_module_version": "1.5.0",
      "model_name": "DescriptionStyleModel",
      "state": {
       "description_width": ""
      }
     },
     "e7d0671cc07b49b6851fb85a2a9d82cb": {
      "model_module": "@jupyter-widgets/controls",
      "model_module_version": "1.5.0",
      "model_name": "HBoxModel",
      "state": {
       "children": [
        "IPY_MODEL_f3ec3b0d0eb7431dbc3bdaad313003f2",
        "IPY_MODEL_653fa9e655e24ca187108dce6abf7e4f",
        "IPY_MODEL_ec2c70fe6de541d49158f4be6f390057"
       ],
       "layout": "IPY_MODEL_b526508da84f4d2cbefe9950e54b89dc"
      }
     },
     "e882c91f49f04a4bae8fd1b7dcc14a2b": {
      "model_module": "@jupyter-widgets/controls",
      "model_module_version": "1.5.0",
      "model_name": "HTMLModel",
      "state": {
       "layout": "IPY_MODEL_14dc5a3924ce4b4f97fffd72a7e4d73a",
       "style": "IPY_MODEL_531826c2d33343589d441bc3a33da451",
       "value": " 1/1 [00:00&lt;00:00,  2.11it/s]"
      }
     },
     "e8cb55c032b24ffa9b80fab029a31e00": {
      "model_module": "@jupyter-widgets/base",
      "model_module_version": "1.2.0",
      "model_name": "LayoutModel",
      "state": {}
     },
     "ea104620706544c988782bd615c3c6ae": {
      "model_module": "@jupyter-widgets/base",
      "model_module_version": "1.2.0",
      "model_name": "LayoutModel",
      "state": {}
     },
     "ea1dadbe1d984302bc1ec5972f7a6a32": {
      "model_module": "@jupyter-widgets/controls",
      "model_module_version": "1.5.0",
      "model_name": "HTMLModel",
      "state": {
       "layout": "IPY_MODEL_9ef05f1da69f4994a2c0d24a32251d7a",
       "style": "IPY_MODEL_cd86f236ca7d49bfac0e87ffcefe5a85",
       "value": " 1/1 [00:00&lt;00:00,  2.38it/s]"
      }
     },
     "ec2c70fe6de541d49158f4be6f390057": {
      "model_module": "@jupyter-widgets/controls",
      "model_module_version": "1.5.0",
      "model_name": "HTMLModel",
      "state": {
       "layout": "IPY_MODEL_a2ef351e0b2548d89b6e9e1bfee22151",
       "style": "IPY_MODEL_37b907351f2046aaafb40ca0da6f060c",
       "value": " 1/1 [00:01&lt;00:00,  1.13s/it]"
      }
     },
     "ecd7ec2686d743479fb0e12af918f9f6": {
      "model_module": "@jupyter-widgets/controls",
      "model_module_version": "1.5.0",
      "model_name": "HTMLModel",
      "state": {
       "layout": "IPY_MODEL_4f0d3634d8cd479889a69c88bf0352e7",
       "style": "IPY_MODEL_40b7002685784b7d89e6a78c62a48103",
       "value": " 1/1 [00:00&lt;00:00,  1.93it/s]"
      }
     },
     "ed18638d0806464384784e4e55df7b61": {
      "model_module": "@jupyter-widgets/base",
      "model_module_version": "1.2.0",
      "model_name": "LayoutModel",
      "state": {}
     },
     "ed8cc1d6d41748128ba727b0cd87e2e5": {
      "model_module": "@jupyter-widgets/base",
      "model_module_version": "1.2.0",
      "model_name": "LayoutModel",
      "state": {}
     },
     "eeb1ae88028d421b83fc7967e3f317e2": {
      "model_module": "@jupyter-widgets/base",
      "model_module_version": "1.2.0",
      "model_name": "LayoutModel",
      "state": {}
     },
     "f13e411c5a8c497392684a6788b07c68": {
      "model_module": "@jupyter-widgets/controls",
      "model_module_version": "1.5.0",
      "model_name": "FloatProgressModel",
      "state": {
       "bar_style": "success",
       "layout": "IPY_MODEL_5da658e548164dd9b08f45a731df1515",
       "max": 1,
       "style": "IPY_MODEL_3e385ac7875a40a099a592fea41f49b5",
       "value": 1
      }
     },
     "f2f169721d4342c28cef5c197745d4fe": {
      "model_module": "jupyter-leaflet",
      "model_module_version": "^0.17.0",
      "model_name": "LeafletIconModel",
      "state": {
       "_model_module_version": "^0.17.0",
       "_view_module_version": "^0.17.0",
       "icon_anchor": [
        12,
        41
       ],
       "icon_size": [
        25,
        41
       ],
       "icon_url": "https://raw.githubusercontent.com/pointhi/leaflet-color-markers/master/img/marker-icon-green.png",
       "options": [
        "icon_anchor",
        "icon_size",
        "icon_url",
        "popup_anchor",
        "shadow_anchor",
        "shadow_size",
        "shadow_url"
       ],
       "popup_anchor": [
        1,
        -34
       ],
       "shadow_size": [
        41,
        41
       ],
       "shadow_url": "https://cdnjs.cloudflare.com/ajax/libs/leaflet/0.7.7/images/marker-shadow.png"
      }
     },
     "f3d4688855b84eb2b00742b7c6ec1667": {
      "model_module": "@jupyter-widgets/controls",
      "model_module_version": "1.5.0",
      "model_name": "DescriptionStyleModel",
      "state": {
       "description_width": ""
      }
     },
     "f3ec3b0d0eb7431dbc3bdaad313003f2": {
      "model_module": "@jupyter-widgets/controls",
      "model_module_version": "1.5.0",
      "model_name": "HTMLModel",
      "state": {
       "layout": "IPY_MODEL_9467f56287564bacab3e809429a9f239",
       "style": "IPY_MODEL_21d84ea5e5cd439daf1fc8591b918a83",
       "value": "File Import: 100%"
      }
     },
     "f4777678e47b4c76bc44ad914a53b68d": {
      "model_module": "@jupyter-widgets/base",
      "model_module_version": "1.2.0",
      "model_name": "LayoutModel",
      "state": {}
     },
     "f5a4758b5f394d538ac267b61091085e": {
      "model_module": "@jupyter-widgets/controls",
      "model_module_version": "1.5.0",
      "model_name": "FloatProgressModel",
      "state": {
       "bar_style": "success",
       "layout": "IPY_MODEL_d0d76e29c7f5439c955975305526eb24",
       "max": 1,
       "style": "IPY_MODEL_097959740bf64326a7f7bfcd224c4187",
       "value": 1
      }
     },
     "f7870b7815ea440294bbd0e6b6cf8362": {
      "model_module": "@jupyter-widgets/controls",
      "model_module_version": "1.5.0",
      "model_name": "HTMLModel",
      "state": {
       "layout": "IPY_MODEL_0ea4dff1bff54b52a91d101ca491c0f4",
       "style": "IPY_MODEL_7ee304200e614daab78a25b424923044",
       "value": "Bounding Boxes: 100%"
      }
     },
     "f86dc5ac775b40c59961668bdbfb64d4": {
      "model_module": "@jupyter-widgets/controls",
      "model_module_version": "1.5.0",
      "model_name": "ProgressStyleModel",
      "state": {
       "description_width": ""
      }
     },
     "f8d2365b9ee1496e9f6b4217771f4885": {
      "model_module": "jupyter-leaflet",
      "model_module_version": "^0.17.0",
      "model_name": "LeafletTileLayerModel",
      "state": {
       "_model_module_version": "^0.17.0",
       "_view_module_version": "^0.17.0",
       "attribution": "<a href=\"https://www.openstreetmap.org/copyright\">© OpenStreetMap contributors</a>, Style: <a href=\"http://creativecommons.org/licenses/by-sa/2.0/\">CC-BY-SA 2.0</a> <a href=\"http://www.openrailwaymap.org/\">OpenRailwayMap</a> and OpenStreetMap",
       "max_zoom": 19,
       "name": "OpenRailwayMap",
       "options": [
        "attribution",
        "bounds",
        "detect_retina",
        "max_native_zoom",
        "max_zoom",
        "min_native_zoom",
        "min_zoom",
        "no_wrap",
        "tile_size",
        "tms"
       ],
       "url": "https://{s}.tiles.openrailwaymap.org/standard/{z}/{x}/{y}.png"
      }
     },
     "f92ab71056e342e6beeb9381a16eee9e": {
      "model_module": "@jupyter-widgets/base",
      "model_module_version": "1.2.0",
      "model_name": "LayoutModel",
      "state": {}
     },
     "fa362689aec04d978fe67c7fa2ef5fa5": {
      "model_module": "@jupyter-widgets/base",
      "model_module_version": "1.2.0",
      "model_name": "LayoutModel",
      "state": {}
     },
     "fcb197bf5c454c8ebe5d8b171375254d": {
      "model_module": "@jupyter-widgets/base",
      "model_module_version": "1.2.0",
      "model_name": "LayoutModel",
      "state": {}
     },
     "fe0af55f4ed54c938ec9c6f92547269b": {
      "model_module": "@jupyter-widgets/base",
      "model_module_version": "1.2.0",
      "model_name": "LayoutModel",
      "state": {}
     },
     "fe12891e3586437eb12d1410656993e2": {
      "model_module": "@jupyter-widgets/controls",
      "model_module_version": "1.5.0",
      "model_name": "DescriptionStyleModel",
      "state": {
       "description_width": ""
      }
     }
    },
    "version_major": 2,
    "version_minor": 0
   }
  }
 },
 "nbformat": 4,
 "nbformat_minor": 5
}
