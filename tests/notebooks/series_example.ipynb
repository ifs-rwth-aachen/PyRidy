{
 "cells": [
  {
   "cell_type": "markdown",
   "id": "90996fa9-335f-4e19-b7f8-39a9418914e6",
   "metadata": {},
   "source": [
    "# Series Example"
   ]
  },
  {
   "cell_type": "markdown",
   "id": "e2597245-74c1-4cfa-88aa-7943cab175d7",
   "metadata": {},
   "source": [
    "This example shows how to access the measurements of an acceleration series and cut off seconds interval. The argument inplace if set to True cuts data inplace otherwise returns a copy of the timeseries."
   ]
  },
  {
   "cell_type": "markdown",
   "id": "50c3f699-3ea0-4022-9f9f-ce8381cfacc6",
   "metadata": {},
   "source": [
    "The following TimeSeries classes currently exist:\n",
    "\n",
    "    AccelerationSeries\n",
    "    AccelerationUncalibratedSeries\n",
    "    LinearAccelerationSeries\n",
    "    MagnetometerSeries\n",
    "    MagnetometerUncalibratedSeries\n",
    "    NMEAMessageSeries\n",
    "    GNSSClockMeasurementSeries\n",
    "    GNSSMeasurementSeries\n",
    "    OrientationSeries\n",
    "    GyroSeries\n",
    "    GyroUncalibratedSeries\n",
    "    RotationSeries\n",
    "    GPSSeries\n",
    "    PressureSeries\n",
    "    TemperatureSeries\n",
    "    HumiditySeries\n",
    "    LightSeries\n",
    "    WzSeries\n",
    "    SubjectiveComfortSeries\n",
    "    \n",
    "Whether these measurement were recorded, depends on the settings in the Ridy App and the device's capabilities."
   ]
  },
  {
   "cell_type": "code",
   "execution_count": 2,
   "id": "0847e6bf-79fc-443d-bc78-cb5bca69206e",
   "metadata": {},
   "outputs": [
    {
     "data": {
      "application/vnd.jupyter.widget-view+json": {
       "model_id": "51799ce0ee624014841585e145973b3e",
       "version_major": 2,
       "version_minor": 0
      },
      "text/plain": [
       "File Import:   0%|          | 0/1 [00:00<?, ?it/s]"
      ]
     },
     "metadata": {},
     "output_type": "display_data"
    },
    {
     "name": "stderr",
     "output_type": "stream",
     "text": [
      "Execution failed on sql 'SELECT * from measurement_information_table': no such table: measurement_information_table\n"
     ]
    },
    {
     "name": "stdout",
     "output_type": "stream",
     "text": [
      "[WinError 10061] No connection could be made because the target machine actively refused it\n",
      "[WinError 10061] No connection could be made because the target machine actively refused it\n"
     ]
    },
    {
     "data": {
      "application/vnd.jupyter.widget-view+json": {
       "model_id": "9383361481d64eeda161865d5a87d6f6",
       "version_major": 2,
       "version_minor": 0
      },
      "text/plain": [
       "Bounding Boxes:   0%|          | 0/1 [00:00<?, ?it/s]"
      ]
     },
     "metadata": {},
     "output_type": "display_data"
    },
    {
     "data": {
      "application/vnd.jupyter.widget-view+json": {
       "model_id": "38e47ed10dc14c72809e8552b61164dd",
       "version_major": 2,
       "version_minor": 0
      },
      "text/plain": [
       "Railway Types:   0%|          | 0/1 [00:00<?, ?it/s]"
      ]
     },
     "metadata": {},
     "output_type": "display_data"
    }
   ],
   "source": [
    "import pyridy\n",
    "from pyridy.utils import AccelerationSeries, LinearAccelerationSeries, GyroSeries, GPSSeries # Every data series that should be used should be imported here\n",
    "\n",
    "path = '../files/sqlite/osm_mapping_test'\n",
    "campaign = pyridy.Campaign(folder=path, download_osm_data=True, railway_types=[\"tram\"], osm_recurse_type=\"<\")\n"
   ]
  },
  {
   "cell_type": "code",
   "execution_count": 3,
   "id": "4c083ce4-88a8-4600-a0e9-7695b49fafb9",
   "metadata": {
    "tags": []
   },
   "outputs": [
    {
     "name": "stdout",
     "output_type": "stream",
     "text": [
      "10.002845174000015\n"
     ]
    }
   ],
   "source": [
    "acc_dur_pre = campaign[0].measurements[AccelerationSeries].get_duration()\n",
    "campaign[0].measurements[AccelerationSeries].cut(5, 5, inplace= True)\n",
    "acc_dur_post = campaign[0].measurements[AccelerationSeries].get_duration()\n",
    "print(acc_dur_pre - acc_dur_post)"
   ]
  }
 ],
 "metadata": {
  "kernelspec": {
   "display_name": "Python 3 (ipykernel)",
   "language": "python",
   "name": "python3"
  },
  "language_info": {
   "codemirror_mode": {
    "name": "ipython",
    "version": 3
   },
   "file_extension": ".py",
   "mimetype": "text/x-python",
   "name": "python",
   "nbconvert_exporter": "python",
   "pygments_lexer": "ipython3",
   "version": "3.9.16"
  },
  "widgets": {
   "application/vnd.jupyter.widget-state+json": {
    "state": {},
    "version_major": 2,
    "version_minor": 0
   }
  }
 },
 "nbformat": 4,
 "nbformat_minor": 5
}
