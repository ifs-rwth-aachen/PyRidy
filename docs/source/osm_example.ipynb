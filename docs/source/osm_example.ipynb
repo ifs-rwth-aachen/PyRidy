{
 "cells": [
  {
   "cell_type": "markdown",
   "id": "0ccd910e-e0ce-4c6c-98c7-2f7cc68a1437",
   "metadata": {},
   "source": [
    "# Map Example"
   ]
  },
  {
   "cell_type": "code",
   "execution_count": 1,
   "id": "456aa310-025f-432a-ab50-6d7610c79e2a",
   "metadata": {},
   "outputs": [
    {
     "data": {
      "application/vnd.jupyter.widget-view+json": {
       "model_id": "d9aa8b11093f4fe9b4018317a4231502",
       "version_major": 2,
       "version_minor": 0
      },
      "text/plain": [
       "File Import:   0%|          | 0/1 [00:00<?, ?it/s]"
      ]
     },
     "metadata": {},
     "output_type": "display_data"
    },
    {
     "name": "stderr",
     "output_type": "stream",
     "text": [
      "ERROR:pyridy.file:Execution failed on sql 'SELECT * from measurement_information_table': no such table: measurement_information_table\n"
     ]
    },
    {
     "data": {
      "application/vnd.jupyter.widget-view+json": {
       "model_id": "44fbcec94ef842719fd04f52e34afc6c",
       "version_major": 2,
       "version_minor": 0
      },
      "text/plain": [
       "Map(center=[52.378061294555664, 9.674729347229004], controls=(ZoomControl(options=['position', 'zoom_in_text',…"
      ]
     },
     "metadata": {},
     "output_type": "display_data"
    }
   ],
   "source": [
    "import pyridy\n",
    "\n",
    "my_campaign=pyridy.Campaign()\n",
    "my_campaign.import_folder(\"../../tests/files/sqlite/osm_mapping_test/\", download_osm_data=False, railway_types=[\"tram\"],\n",
    "                              osm_recurse_type=\"<\")\n",
    "m = my_campaign.create_map()\n",
    "m"
   ]
  }
 ],
 "metadata": {
  "kernelspec": {
   "display_name": "Python 3 (ipykernel)",
   "language": "python",
   "name": "python3"
  },
  "language_info": {
   "codemirror_mode": {
    "name": "ipython",
    "version": 3
   },
   "file_extension": ".py",
   "mimetype": "text/x-python",
   "name": "python",
   "nbconvert_exporter": "python",
   "pygments_lexer": "ipython3",
   "version": "3.8.15"
  },
  "widgets": {
   "application/vnd.jupyter.widget-state+json": {
    "state": {
     "038827112e034305899225f6f33c89a2": {
      "model_module": "@jupyter-widgets/controls",
      "model_module_version": "1.5.0",
      "model_name": "DescriptionStyleModel",
      "state": {
       "description_width": ""
      }
     },
     "0712f9ccccd643c39784a899dbc21974": {
      "model_module": "jupyter-leaflet",
      "model_module_version": "^0.17",
      "model_name": "LeafletPolylineModel",
      "state": {
       "_model_module_version": "^0.17",
       "_view_module_version": "^0.17",
       "color": "#00549F",
       "dash_array": "10, 10",
       "draggable": false,
       "fill": false,
       "locations": [
        [
         52.37718963623047,
         9.665152549743652
        ],
        [
         52.3771858215332,
         9.665215492248535
        ],
        [
         52.3771858215332,
         9.66529655456543
        ],
        [
         52.3771858215332,
         9.665373802185059
        ],
        [
         52.3771858215332,
         9.665454864501953
        ],
        [
         52.3771858215332,
         9.66553020477295
        ],
        [
         52.37718200683594,
         9.665605545043945
        ],
        [
         52.37717819213867,
         9.665687561035156
        ],
        [
         52.37717819213867,
         9.665782928466797
        ],
        [
         52.377174377441406,
         9.665885925292969
        ],
        [
         52.37717819213867,
         9.665994644165039
        ],
        [
         52.37718200683594,
         9.666114807128906
        ],
        [
         52.37718963623047,
         9.66624927520752
        ],
        [
         52.377197265625,
         9.666409492492676
        ],
        [
         52.37720489501953,
         9.666569709777832
        ],
        [
         52.37721252441406,
         9.666746139526367
        ],
        [
         52.37722396850586,
         9.666927337646484
        ],
        [
         52.377235412597656,
         9.66712760925293
        ],
        [
         52.37725067138672,
         9.667341232299805
        ],
        [
         52.377262115478516,
         9.667571067810059
        ],
        [
         52.37727355957031,
         9.667808532714844
        ],
        [
         52.377288818359375,
         9.668054580688477
        ],
        [
         52.377296447753906,
         9.668323516845703
        ],
        [
         52.3773078918457,
         9.668597221374512
        ],
        [
         52.37731170654297,
         9.668855667114258
        ],
        [
         52.3773193359375,
         9.66911792755127
        ],
        [
         52.3773193359375,
         9.669371604919434
        ],
        [
         52.377323150634766,
         9.66962718963623
        ],
        [
         52.377323150634766,
         9.669873237609863
        ],
        [
         52.37732696533203,
         9.670116424560547
        ],
        [
         52.37732696533203,
         9.670352935791016
        ],
        [
         52.37732696533203,
         9.670576095581055
        ],
        [
         52.377323150634766,
         9.67080020904541
        ],
        [
         52.377323150634766,
         9.671031951904297
        ],
        [
         52.377323150634766,
         9.671221733093262
        ],
        [
         52.37732696533203,
         9.671416282653809
        ],
        [
         52.37733459472656,
         9.67160701751709
        ],
        [
         52.37733840942383,
         9.671805381774902
        ],
        [
         52.37734603881836,
         9.671993255615234
        ],
        [
         52.377357482910156,
         9.672165870666504
        ],
        [
         52.37736511230469,
         9.672341346740723
        ],
        [
         52.377376556396484,
         9.672510147094727
        ],
        [
         52.377384185791016,
         9.672677040100098
        ],
        [
         52.37739181518555,
         9.672834396362305
        ],
        [
         52.37739944458008,
         9.67298412322998
        ],
        [
         52.377403259277344,
         9.673120498657227
        ],
        [
         52.37740707397461,
         9.673237800598145
        ],
        [
         52.377410888671875,
         9.673351287841797
        ],
        [
         52.377410888671875,
         9.673455238342285
        ],
        [
         52.37741470336914,
         9.673532485961914
        ],
        [
         52.37741470336914,
         9.673598289489746
        ],
        [
         52.37741470336914,
         9.6736478805542
        ],
        [
         52.377410888671875,
         9.67369270324707
        ],
        [
         52.377410888671875,
         9.673720359802246
        ],
        [
         52.377410888671875,
         9.673744201660156
        ],
        [
         52.377410888671875,
         9.673763275146484
        ],
        [
         52.377410888671875,
         9.6737699508667
        ],
        [
         52.377410888671875,
         9.673768043518066
        ],
        [
         52.377410888671875,
         9.67376708984375
        ],
        [
         52.377410888671875,
         9.673766136169434
        ],
        [
         52.377410888671875,
         9.673766136169434
        ],
        [
         52.377410888671875,
         9.673766136169434
        ],
        [
         52.377410888671875,
         9.673766136169434
        ],
        [
         52.377410888671875,
         9.673765182495117
        ],
        [
         52.377410888671875,
         9.673765182495117
        ],
        [
         52.377410888671875,
         9.673765182495117
        ],
        [
         52.377410888671875,
         9.673765182495117
        ],
        [
         52.377410888671875,
         9.673765182495117
        ],
        [
         52.377410888671875,
         9.673765182495117
        ],
        [
         52.377410888671875,
         9.67377758026123
        ],
        [
         52.377410888671875,
         9.673810005187988
        ],
        [
         52.37741470336914,
         9.673852920532227
        ],
        [
         52.37741470336914,
         9.673901557922363
        ],
        [
         52.37741470336914,
         9.67396354675293
        ],
        [
         52.377418518066406,
         9.674038887023926
        ],
        [
         52.377418518066406,
         9.674132347106934
        ],
        [
         52.377418518066406,
         9.674233436584473
        ],
        [
         52.377418518066406,
         9.674349784851074
        ],
        [
         52.37741470336914,
         9.674476623535156
        ],
        [
         52.377410888671875,
         9.674617767333984
        ],
        [
         52.377410888671875,
         9.674763679504395
        ],
        [
         52.37740707397461,
         9.674927711486816
        ],
        [
         52.37740707397461,
         9.675087928771973
        ],
        [
         52.377403259277344,
         9.675256729125977
        ],
        [
         52.37739562988281,
         9.675443649291992
        ],
        [
         52.37738800048828,
         9.675642967224121
        ],
        [
         52.37738037109375,
         9.67581844329834
        ],
        [
         52.377376556396484,
         9.676015853881836
        ],
        [
         52.37737274169922,
         9.676215171813965
        ],
        [
         52.37737274169922,
         9.676426887512207
        ],
        [
         52.37738037109375,
         9.676642417907715
        ],
        [
         52.37738800048828,
         9.67686939239502
        ],
        [
         52.37739944458008,
         9.67708969116211
        ],
        [
         52.37742233276367,
         9.677309036254883
        ],
        [
         52.37744903564453,
         9.677536010742188
        ],
        [
         52.37748336791992,
         9.67774486541748
        ],
        [
         52.377525329589844,
         9.677970886230469
        ],
        [
         52.37758255004883,
         9.678196907043457
        ],
        [
         52.37765121459961,
         9.678433418273926
        ],
        [
         52.37771987915039,
         9.678633689880371
        ],
        [
         52.3777961730957,
         9.6788330078125
        ],
        [
         52.37788009643555,
         9.67902946472168
        ],
        [
         52.37796401977539,
         9.67920970916748
        ],
        [
         52.378055572509766,
         9.67939567565918
        ],
        [
         52.37815856933594,
         9.679572105407715
        ],
        [
         52.37825393676758,
         9.679718971252441
        ],
        [
         52.37834548950195,
         9.679862976074219
        ],
        [
         52.37843704223633,
         9.68000602722168
        ],
        [
         52.378517150878906,
         9.68014907836914
        ],
        [
         52.37858200073242,
         9.680272102355957
        ],
        [
         52.37864685058594,
         9.680399894714355
        ],
        [
         52.378700256347656,
         9.680508613586426
        ],
        [
         52.378746032714844,
         9.680610656738281
        ],
        [
         52.378787994384766,
         9.680703163146973
        ],
        [
         52.378822326660156,
         9.68078327178955
        ],
        [
         52.37885284423828,
         9.680852890014648
        ],
        [
         52.378875732421875,
         9.680915832519531
        ],
        [
         52.37889862060547,
         9.680973052978516
        ],
        [
         52.3789176940918,
         9.681029319763184
        ],
        [
         52.37893295288086,
         9.681087493896484
        ],
        [
         52.37894058227539,
         9.681150436401367
        ],
        [
         52.37894821166992,
         9.681217193603516
        ],
        [
         52.37894821166992,
         9.681292533874512
        ],
        [
         52.37894058227539,
         9.681370735168457
        ],
        [
         52.37892532348633,
         9.681442260742188
        ],
        [
         52.378902435302734,
         9.681511878967285
        ],
        [
         52.37887191772461,
         9.681578636169434
        ],
        [
         52.378841400146484,
         9.681636810302734
        ],
        [
         52.37879943847656,
         9.681689262390137
        ],
        [
         52.378761291503906,
         9.681736946105957
        ],
        [
         52.378719329833984,
         9.681780815124512
        ],
        [
         52.37867736816406,
         9.68182373046875
        ],
        [
         52.37863540649414,
         9.681867599487305
        ],
        [
         52.37858963012695,
         9.681913375854492
        ],
        [
         52.378543853759766,
         9.681961059570312
        ],
        [
         52.37849426269531,
         9.682010650634766
        ],
        [
         52.378440856933594,
         9.682065963745117
        ],
        [
         52.378379821777344,
         9.682132720947266
        ],
        [
         52.37831115722656,
         9.682207107543945
        ],
        [
         52.378238677978516,
         9.682286262512207
        ],
        [
         52.3781623840332,
         9.682369232177734
        ],
        [
         52.37808609008789,
         9.682456016540527
        ],
        [
         52.37800598144531,
         9.682540893554688
        ],
        [
         52.377933502197266,
         9.682623863220215
        ],
        [
         52.377864837646484,
         9.68270206451416
        ],
        [
         52.37779998779297,
         9.682775497436523
        ],
        [
         52.37773895263672,
         9.682842254638672
        ],
        [
         52.377685546875,
         9.682902336120605
        ],
        [
         52.37763214111328,
         9.68295669555664
        ],
        [
         52.377586364746094,
         9.683005332946777
        ],
        [
         52.37754440307617,
         9.683053016662598
        ],
        [
         52.377506256103516,
         9.683100700378418
        ],
        [
         52.37746810913086,
         9.683151245117188
        ],
        [
         52.3774299621582,
         9.683206558227539
        ],
        [
         52.37739944458008,
         9.683257102966309
        ],
        [
         52.37736892700195,
         9.68331241607666
        ],
        [
         52.37733840942383,
         9.683371543884277
        ],
        [
         52.37731170654297,
         9.68343734741211
        ],
        [
         52.377296447753906,
         9.683514595031738
        ],
        [
         52.377288818359375,
         9.683601379394531
        ],
        [
         52.377281188964844,
         9.683686256408691
        ],
        [
         52.37727737426758,
         9.683769226074219
        ],
        [
         52.37727355957031,
         9.683856010437012
        ],
        [
         52.37726974487305,
         9.683938980102539
        ],
        [
         52.37726974487305,
         9.684021949768066
        ],
        [
         52.37726593017578,
         9.684101104736328
        ],
        [
         52.377262115478516,
         9.684176445007324
        ],
        [
         52.377254486083984,
         9.684247016906738
        ],
        [
         52.37725067138672,
         9.684306144714355
        ]
       ],
       "options": [
        "color",
        "dash_array",
        "draggable",
        "fill",
        "fill_color",
        "fill_opacity",
        "line_cap",
        "line_join",
        "no_clip",
        "opacity",
        "pointer_events",
        "smooth_factor",
        "stroke",
        "transform",
        "weight"
       ],
       "popup": "IPY_MODEL_4d5a87ea4c93456292b87b12c4e4de69",
       "rotation": true,
       "scaling": true,
       "transform": false,
       "uniform_scaling": false,
       "weight": 4
      }
     },
     "09ae9e0b86e54e24bb50d7773eff3917": {
      "model_module": "@jupyter-widgets/base",
      "model_module_version": "1.2.0",
      "model_name": "LayoutModel",
      "state": {}
     },
     "1a4cf634701442b9aeda275694e8c12e": {
      "model_module": "jupyter-leaflet",
      "model_module_version": "^0.17",
      "model_name": "LeafletMapStyleModel",
      "state": {
       "_model_module_version": "^0.17"
      }
     },
     "249ab146ac4a4f829d44896c94ebd2e4": {
      "model_module": "jupyter-leaflet",
      "model_module_version": "^0.17",
      "model_name": "LeafletTileLayerModel",
      "state": {
       "_model_module_version": "^0.17",
       "_view_module_version": "^0.17",
       "attribution": "&copy; <a href=\"https://www.openstreetmap.org/copyright\">OpenStreetMap</a> contributors &copy; <a href=\"https://carto.com/attributions\">CARTO</a>",
       "base": true,
       "max_zoom": 20,
       "min_zoom": 1,
       "name": "CartoDB.Positron",
       "options": [
        "attribution",
        "bounds",
        "detect_retina",
        "max_native_zoom",
        "max_zoom",
        "min_native_zoom",
        "min_zoom",
        "no_wrap",
        "tile_size",
        "tms",
        "zoom_offset"
       ],
       "url": "https://a.basemaps.cartocdn.com/light_all/{z}/{x}/{y}.png"
      }
     },
     "268ee7d38f464bb6ba50a01d502e0a78": {
      "model_module": "jupyter-leaflet",
      "model_module_version": "^0.17",
      "model_name": "LeafletIconModel",
      "state": {
       "_model_module_version": "^0.17",
       "_view_module_version": "^0.17",
       "icon_anchor": [
        12,
        41
       ],
       "icon_size": [
        25,
        41
       ],
       "icon_url": "https://raw.githubusercontent.com/pointhi/leaflet-color-markers/master/img/marker-icon-green.png",
       "options": [
        "icon_anchor",
        "icon_size",
        "icon_url",
        "popup_anchor",
        "shadow_anchor",
        "shadow_size",
        "shadow_url"
       ],
       "popup_anchor": [
        1,
        -34
       ],
       "shadow_size": [
        41,
        41
       ],
       "shadow_url": "https://cdnjs.cloudflare.com/ajax/libs/leaflet/0.7.7/images/marker-shadow.png"
      }
     },
     "2983934c18af49a899ffb7378ac5d63d": {
      "model_module": "@jupyter-widgets/controls",
      "model_module_version": "1.5.0",
      "model_name": "DescriptionStyleModel",
      "state": {
       "description_width": ""
      }
     },
     "2b53ab76e0f6469dbb991c548ba59944": {
      "model_module": "@jupyter-widgets/base",
      "model_module_version": "1.2.0",
      "model_name": "LayoutModel",
      "state": {}
     },
     "301cae6a2dea40c2bccede6f86fb513f": {
      "model_module": "@jupyter-widgets/base",
      "model_module_version": "1.2.0",
      "model_name": "LayoutModel",
      "state": {}
     },
     "32f442b9854e4e909868d07ac7da98f2": {
      "model_module": "jupyter-leaflet",
      "model_module_version": "^0.17",
      "model_name": "LeafletAttributionControlModel",
      "state": {
       "_model_module_version": "^0.17",
       "_view_module_version": "^0.17",
       "options": [
        "position",
        "prefix"
       ],
       "position": "bottomright",
       "prefix": "ipyleaflet"
      }
     },
     "399cd016709c487ba1fadf43f18e1992": {
      "model_module": "jupyter-leaflet",
      "model_module_version": "^0.17",
      "model_name": "LeafletMapStyleModel",
      "state": {
       "_model_module_version": "^0.17",
       "cursor": "move"
      }
     },
     "44fbcec94ef842719fd04f52e34afc6c": {
      "model_module": "jupyter-leaflet",
      "model_module_version": "^0.17",
      "model_name": "LeafletMapModel",
      "state": {
       "_model_module_version": "^0.17",
       "_view_module_version": "^0.17",
       "bottom": 344764,
       "center": [
        52.378061294555664,
        9.674729347229004
       ],
       "controls": [
        "IPY_MODEL_75298c3050d040b285d441704ac5f9dd",
        "IPY_MODEL_32f442b9854e4e909868d07ac7da98f2",
        "IPY_MODEL_699743abf8034f499533bf0d05037ce7",
        "IPY_MODEL_7ca0dae710ae4ad2a39e9a7ee59161bf",
        "IPY_MODEL_93732e5311064bfd9140d3786e242464"
       ],
       "default_style": "IPY_MODEL_6f347b569cf84d6881d7882a6a117c21",
       "dragging_style": "IPY_MODEL_399cd016709c487ba1fadf43f18e1992",
       "east": 9.871902465820314,
       "fullscreen": false,
       "interpolation": "bilinear",
       "layers": [
        "IPY_MODEL_9a77139902fb4d19ac5ac44027d4ba96",
        "IPY_MODEL_69a17a964eb3411083ea51bc1efab6ff",
        "IPY_MODEL_249ab146ac4a4f829d44896c94ebd2e4",
        "IPY_MODEL_f8126cb1601f4d369c5aa635f959734f"
       ],
       "layout": "IPY_MODEL_2b53ab76e0f6469dbb991c548ba59944",
       "left": 551894,
       "modisdate": "2023-01-22",
       "north": 52.42001044535863,
       "options": [
        "bounce_at_zoom_limits",
        "box_zoom",
        "center",
        "close_popup_on_click",
        "double_click_zoom",
        "dragging",
        "fullscreen",
        "inertia",
        "inertia_deceleration",
        "inertia_max_speed",
        "interpolation",
        "keyboard",
        "keyboard_pan_offset",
        "keyboard_zoom_offset",
        "max_zoom",
        "min_zoom",
        "prefer_canvas",
        "scroll_wheel_zoom",
        "tap",
        "tap_tolerance",
        "touch_zoom",
        "world_copy_jump",
        "zoom",
        "zoom_animation_threshold",
        "zoom_delta",
        "zoom_snap"
       ],
       "prefer_canvas": false,
       "right": 553042,
       "scroll_wheel_zoom": true,
       "south": 52.33617819817484,
       "style": "IPY_MODEL_6f347b569cf84d6881d7882a6a117c21",
       "top": 344364,
       "west": 9.47776794433594,
       "window_url": "http://localhost:8888/lab/workspaces/auto-g/tree/docs/source/processing_example.ipynb"
      }
     },
     "4d5a87ea4c93456292b87b12c4e4de69": {
      "model_module": "@jupyter-widgets/controls",
      "model_module_version": "1.5.0",
      "model_name": "HTMLModel",
      "state": {
       "layout": "IPY_MODEL_b3327267660545c1bff584d43dce7a61",
       "style": "IPY_MODEL_950065a0f0ed40368fac917ae7dbfadf",
       "value": "<p>Filename: osm_mapping_test.sqlite<br>Device: None None</p><br>GPS Start time: 956923230 nanoseconds<br>GPS End time:   168913890149 nanoseconds"
      }
     },
     "510399e999ad4966926a15bd44e1ea1e": {
      "model_module": "jupyter-leaflet",
      "model_module_version": "^0.17",
      "model_name": "LeafletIconModel",
      "state": {
       "_model_module_version": "^0.17",
       "_view_module_version": "^0.17",
       "icon_anchor": [
        12,
        41
       ],
       "icon_size": [
        25,
        41
       ],
       "icon_url": "https://raw.githubusercontent.com/pointhi/leaflet-color-markers/master/img/marker-icon-green.png",
       "options": [
        "icon_anchor",
        "icon_size",
        "icon_url",
        "popup_anchor",
        "shadow_anchor",
        "shadow_size",
        "shadow_url"
       ],
       "popup_anchor": [
        1,
        -34
       ],
       "shadow_size": [
        41,
        41
       ],
       "shadow_url": "https://cdnjs.cloudflare.com/ajax/libs/leaflet/0.7.7/images/marker-shadow.png"
      }
     },
     "544385feb23741a8bd8adbf6db67c469": {
      "model_module": "@jupyter-widgets/base",
      "model_module_version": "1.2.0",
      "model_name": "LayoutModel",
      "state": {}
     },
     "5506518ad82b42e98913cc7e965b27e2": {
      "model_module": "jupyter-leaflet",
      "model_module_version": "^0.17",
      "model_name": "LeafletTileLayerModel",
      "state": {
       "_model_module_version": "^0.17",
       "_view_module_version": "^0.17",
       "max_zoom": 19,
       "name": "OpenStreetMap BW",
       "options": [
        "attribution",
        "bounds",
        "detect_retina",
        "max_native_zoom",
        "max_zoom",
        "min_native_zoom",
        "min_zoom",
        "no_wrap",
        "tile_size",
        "tms",
        "zoom_offset"
       ],
       "url": "https://{s}.tiles.wmflabs.org/bw-mapnik/{z}/{x}/{y}.png"
      }
     },
     "699743abf8034f499533bf0d05037ce7": {
      "model_module": "jupyter-leaflet",
      "model_module_version": "^0.17",
      "model_name": "LeafletScaleControlModel",
      "state": {
       "_model_module_version": "^0.17",
       "_view_module_version": "^0.17",
       "imperial": true,
       "max_width": 100,
       "metric": true,
       "options": [
        "imperial",
        "max_width",
        "metric",
        "position",
        "update_when_idle"
       ],
       "position": "bottomleft",
       "update_when_idle": false
      }
     },
     "69a17a964eb3411083ea51bc1efab6ff": {
      "model_module": "jupyter-leaflet",
      "model_module_version": "^0.17",
      "model_name": "LeafletTileLayerModel",
      "state": {
       "_model_module_version": "^0.17",
       "_view_module_version": "^0.17",
       "attribution": "<a href=\"https://www.openstreetmap.org/copyright\">© OpenStreetMap contributors</a>, Style: <a href=\"http://creativecommons.org/licenses/by-sa/2.0/\">CC-BY-SA 2.0</a> <a href=\"http://www.openrailwaymap.org/\">OpenRailwayMap</a> and OpenStreetMap",
       "max_zoom": 19,
       "name": "OpenRailwayMap",
       "opacity": 0.4,
       "options": [
        "attribution",
        "bounds",
        "detect_retina",
        "max_native_zoom",
        "max_zoom",
        "min_native_zoom",
        "min_zoom",
        "no_wrap",
        "tile_size",
        "tms",
        "zoom_offset"
       ],
       "url": "https://{s}.tiles.openrailwaymap.org/standard/{z}/{x}/{y}.png"
      }
     },
     "6f347b569cf84d6881d7882a6a117c21": {
      "model_module": "jupyter-leaflet",
      "model_module_version": "^0.17",
      "model_name": "LeafletMapStyleModel",
      "state": {
       "_model_module_version": "^0.17"
      }
     },
     "75298c3050d040b285d441704ac5f9dd": {
      "model_module": "jupyter-leaflet",
      "model_module_version": "^0.17",
      "model_name": "LeafletZoomControlModel",
      "state": {
       "_model_module_version": "^0.17",
       "_view_module_version": "^0.17",
       "options": [
        "position",
        "zoom_in_text",
        "zoom_in_title",
        "zoom_out_text",
        "zoom_out_title"
       ]
      }
     },
     "7587adadb835449880ae434d399cd763": {
      "model_module": "@jupyter-widgets/base",
      "model_module_version": "1.2.0",
      "model_name": "LayoutModel",
      "state": {}
     },
     "76c8e7c07895438b9a6a41de678d8f83": {
      "model_module": "@jupyter-widgets/controls",
      "model_module_version": "1.5.0",
      "model_name": "DescriptionStyleModel",
      "state": {
       "description_width": ""
      }
     },
     "7baed213d1c9476099cc427e497143cf": {
      "model_module": "jupyter-leaflet",
      "model_module_version": "^0.17",
      "model_name": "LeafletMarkerModel",
      "state": {
       "_model_module_version": "^0.17",
       "_view_module_version": "^0.17",
       "draggable": false,
       "icon": "IPY_MODEL_510399e999ad4966926a15bd44e1ea1e",
       "location": [
        52.37718963623047,
        9.665152549743652
       ],
       "options": [
        "alt",
        "draggable",
        "keyboard",
        "rise_offset",
        "rise_on_hover",
        "rotation_angle",
        "rotation_origin",
        "title",
        "z_index_offset"
       ],
       "popup": "IPY_MODEL_eb9ca3d3b2d84cf098300feda5a4d1a8"
      }
     },
     "7ca0dae710ae4ad2a39e9a7ee59161bf": {
      "model_module": "jupyter-leaflet",
      "model_module_version": "^0.17",
      "model_name": "LeafletFullScreenControlModel",
      "state": {
       "_model_module_version": "^0.17",
       "_view_module_version": "^0.17",
       "options": [
        "position"
       ]
      }
     },
     "7ecbd7c1e8084df79bfe78df9d71e463": {
      "model_module": "@jupyter-widgets/base",
      "model_module_version": "1.2.0",
      "model_name": "LayoutModel",
      "state": {}
     },
     "93732e5311064bfd9140d3786e242464": {
      "model_module": "jupyter-leaflet",
      "model_module_version": "^0.17",
      "model_name": "LeafletLayersControlModel",
      "state": {
       "_model_module_version": "^0.17",
       "_view_module_version": "^0.17",
       "options": [
        "position"
       ],
       "position": "topright"
      }
     },
     "950065a0f0ed40368fac917ae7dbfadf": {
      "model_module": "@jupyter-widgets/controls",
      "model_module_version": "1.5.0",
      "model_name": "DescriptionStyleModel",
      "state": {
       "description_width": ""
      }
     },
     "9a77139902fb4d19ac5ac44027d4ba96": {
      "model_module": "jupyter-leaflet",
      "model_module_version": "^0.17",
      "model_name": "LeafletTileLayerModel",
      "state": {
       "_model_module_version": "^0.17",
       "_view_module_version": "^0.17",
       "base": true,
       "max_zoom": 19,
       "name": "OpenStreetMap",
       "options": [
        "attribution",
        "bounds",
        "detect_retina",
        "max_native_zoom",
        "max_zoom",
        "min_native_zoom",
        "min_zoom",
        "no_wrap",
        "tile_size",
        "tms",
        "zoom_offset"
       ],
       "url": "https://{s}.tile.openstreetmap.de/{z}/{x}/{y}.png"
      }
     },
     "a7afb133b1e4496ebc076bbd7527a850": {
      "model_module": "@jupyter-widgets/controls",
      "model_module_version": "1.5.0",
      "model_name": "FloatProgressModel",
      "state": {
       "bar_style": "success",
       "layout": "IPY_MODEL_301cae6a2dea40c2bccede6f86fb513f",
       "max": 1,
       "style": "IPY_MODEL_ee9831be31ff4deabd873b298255214a",
       "value": 1
      }
     },
     "b3327267660545c1bff584d43dce7a61": {
      "model_module": "@jupyter-widgets/base",
      "model_module_version": "1.2.0",
      "model_name": "LayoutModel",
      "state": {}
     },
     "b43bc2745e034047be13df77890681d4": {
      "model_module": "@jupyter-widgets/controls",
      "model_module_version": "1.5.0",
      "model_name": "HTMLModel",
      "state": {
       "layout": "IPY_MODEL_e888b231578f4f19b16aa4feeb14cb4e",
       "style": "IPY_MODEL_76c8e7c07895438b9a6a41de678d8f83",
       "value": "<p>End:</p><p>Filename: osm_mapping_test.sqlite<br>Device: None None</p><br>GPS Start time: 956923230 nanoseconds<br>GPS End time:   168913890149 nanoseconds"
      }
     },
     "b84d77530f0342cea69fc9661a276068": {
      "model_module": "@jupyter-widgets/controls",
      "model_module_version": "1.5.0",
      "model_name": "HTMLModel",
      "state": {
       "layout": "IPY_MODEL_7587adadb835449880ae434d399cd763",
       "style": "IPY_MODEL_fcc8aceae0614db18052b0f64955ef12",
       "value": "File Import: 100%"
      }
     },
     "d9aa8b11093f4fe9b4018317a4231502": {
      "model_module": "@jupyter-widgets/controls",
      "model_module_version": "1.5.0",
      "model_name": "HBoxModel",
      "state": {
       "children": [
        "IPY_MODEL_b84d77530f0342cea69fc9661a276068",
        "IPY_MODEL_a7afb133b1e4496ebc076bbd7527a850",
        "IPY_MODEL_ec2089a043de430ba6efddc5cec0ff45"
       ],
       "layout": "IPY_MODEL_09ae9e0b86e54e24bb50d7773eff3917"
      }
     },
     "ded10f66f89e4a02b108faea08718606": {
      "model_module": "jupyter-leaflet",
      "model_module_version": "^0.17",
      "model_name": "LeafletMarkerModel",
      "state": {
       "_model_module_version": "^0.17",
       "_view_module_version": "^0.17",
       "draggable": false,
       "icon": "IPY_MODEL_feccc307bc52424990ae304cdde0ff2a",
       "location": [
        52.37725067138672,
        9.684306144714355
       ],
       "options": [
        "alt",
        "draggable",
        "keyboard",
        "rise_offset",
        "rise_on_hover",
        "rotation_angle",
        "rotation_origin",
        "title",
        "z_index_offset"
       ],
       "popup": "IPY_MODEL_b43bc2745e034047be13df77890681d4"
      }
     },
     "e888b231578f4f19b16aa4feeb14cb4e": {
      "model_module": "@jupyter-widgets/base",
      "model_module_version": "1.2.0",
      "model_name": "LayoutModel",
      "state": {}
     },
     "eb9ca3d3b2d84cf098300feda5a4d1a8": {
      "model_module": "@jupyter-widgets/controls",
      "model_module_version": "1.5.0",
      "model_name": "HTMLModel",
      "state": {
       "layout": "IPY_MODEL_544385feb23741a8bd8adbf6db67c469",
       "style": "IPY_MODEL_2983934c18af49a899ffb7378ac5d63d",
       "value": "<p>Start:</p><p>Filename: osm_mapping_test.sqlite<br>Device: None None</p><br>GPS Start time: 956923230 nanoseconds<br>GPS End time:   168913890149 nanoseconds"
      }
     },
     "ec2089a043de430ba6efddc5cec0ff45": {
      "model_module": "@jupyter-widgets/controls",
      "model_module_version": "1.5.0",
      "model_name": "HTMLModel",
      "state": {
       "layout": "IPY_MODEL_7ecbd7c1e8084df79bfe78df9d71e463",
       "style": "IPY_MODEL_038827112e034305899225f6f33c89a2",
       "value": " 1/1 [00:00&lt;00:00,  2.00it/s]"
      }
     },
     "ee9831be31ff4deabd873b298255214a": {
      "model_module": "@jupyter-widgets/controls",
      "model_module_version": "1.5.0",
      "model_name": "ProgressStyleModel",
      "state": {
       "description_width": ""
      }
     },
     "f8126cb1601f4d369c5aa635f959734f": {
      "model_module": "jupyter-leaflet",
      "model_module_version": "^0.17",
      "model_name": "LeafletLayerGroupModel",
      "state": {
       "_model_module_version": "^0.17",
       "_view_module_version": "^0.17",
       "layers": [
        "IPY_MODEL_0712f9ccccd643c39784a899dbc21974",
        "IPY_MODEL_7baed213d1c9476099cc427e497143cf",
        "IPY_MODEL_ded10f66f89e4a02b108faea08718606"
       ],
       "name": "osm_mapping_test.sqlite"
      }
     },
     "fcc8aceae0614db18052b0f64955ef12": {
      "model_module": "@jupyter-widgets/controls",
      "model_module_version": "1.5.0",
      "model_name": "DescriptionStyleModel",
      "state": {
       "description_width": ""
      }
     },
     "feccc307bc52424990ae304cdde0ff2a": {
      "model_module": "jupyter-leaflet",
      "model_module_version": "^0.17",
      "model_name": "LeafletIconModel",
      "state": {
       "_model_module_version": "^0.17",
       "_view_module_version": "^0.17",
       "icon_anchor": [
        12,
        41
       ],
       "icon_size": [
        25,
        41
       ],
       "icon_url": "https://raw.githubusercontent.com/pointhi/leaflet-color-markers/master/img/marker-icon-red.png",
       "options": [
        "icon_anchor",
        "icon_size",
        "icon_url",
        "popup_anchor",
        "shadow_anchor",
        "shadow_size",
        "shadow_url"
       ],
       "popup_anchor": [
        1,
        -34
       ],
       "shadow_size": [
        41,
        41
       ],
       "shadow_url": "https://cdnjs.cloudflare.com/ajax/libs/leaflet/0.7.7/images/marker-shadow.png"
      }
     },
     "feffb96f65534f479bd647c0fb3d48d1": {
      "model_module": "jupyter-leaflet",
      "model_module_version": "^0.17",
      "model_name": "LeafletIconModel",
      "state": {
       "_model_module_version": "^0.17",
       "_view_module_version": "^0.17",
       "icon_anchor": [
        12,
        41
       ],
       "icon_size": [
        25,
        41
       ],
       "icon_url": "https://raw.githubusercontent.com/pointhi/leaflet-color-markers/master/img/marker-icon-red.png",
       "options": [
        "icon_anchor",
        "icon_size",
        "icon_url",
        "popup_anchor",
        "shadow_anchor",
        "shadow_size",
        "shadow_url"
       ],
       "popup_anchor": [
        1,
        -34
       ],
       "shadow_size": [
        41,
        41
       ],
       "shadow_url": "https://cdnjs.cloudflare.com/ajax/libs/leaflet/0.7.7/images/marker-shadow.png"
      }
     }
    },
    "version_major": 2,
    "version_minor": 0
   }
  }
 },
 "nbformat": 4,
 "nbformat_minor": 5
}
