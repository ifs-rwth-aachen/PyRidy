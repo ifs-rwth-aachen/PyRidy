{
 "cells": [
  {
   "cell_type": "markdown",
   "id": "64ef159f-0a71-40e8-867c-ce0475d419a6",
   "metadata": {},
   "source": [
    "# Query Example"
   ]
  },
  {
   "cell_type": "code",
   "execution_count": 1,
   "id": "3af54621-6c6b-4e0a-98fa-b165a78db8e9",
   "metadata": {},
   "outputs": [
    {
     "data": {
      "text/plain": [
       "2529"
      ]
     },
     "execution_count": 1,
     "metadata": {},
     "output_type": "execute_result"
    }
   ],
   "source": [
    "import overpy\n",
    "api = overpy.Overpass()\n",
    "result = api.query(\"node(50.745,7.17,50.75,7.18);out;\")\n",
    "len(result.nodes)"
   ]
  }
 ],
 "metadata": {
  "kernelspec": {
   "display_name": "Python 3 (ipykernel)",
   "language": "python",
   "name": "python3"
  },
  "language_info": {
   "codemirror_mode": {
    "name": "ipython",
    "version": 3
   },
   "file_extension": ".py",
   "mimetype": "text/x-python",
   "name": "python",
   "nbconvert_exporter": "python",
   "pygments_lexer": "ipython3",
   "version": "3.8.15"
  },
  "widgets": {
   "application/vnd.jupyter.widget-state+json": {
    "state": {},
    "version_major": 2,
    "version_minor": 0
   }
  }
 },
 "nbformat": 4,
 "nbformat_minor": 5
}
