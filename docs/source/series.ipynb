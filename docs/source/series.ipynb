{
 "cells": [
  {
   "cell_type": "code",
   "execution_count": 3,
   "id": "19063f8f-f186-4f36-ab55-bb6a776d6bcb",
   "metadata": {},
   "outputs": [],
   "source": [
    "import pandas as pd\n",
    "import pyridy\n",
    "from pyridy.utils import AccelerationSeries, GNSSClockMeasurementSeries, TimeSeries"
   ]
  },
  {
   "cell_type": "code",
   "execution_count": 6,
   "id": "36c0395b-d256-4db2-8f49-6b90c7bafba2",
   "metadata": {},
   "outputs": [
    {
     "data": {
      "application/vnd.jupyter.widget-view+json": {
       "model_id": "b62a9fcbc9ee40a4a3ba1a0e8704166d",
       "version_major": 2,
       "version_minor": 0
      },
      "text/plain": [
       "File Import:   0%|          | 0/1 [00:00<?, ?it/s]"
      ]
     },
     "metadata": {},
     "output_type": "display_data"
    },
    {
     "name": "stdout",
     "output_type": "stream",
     "text": [
      "10.001574479\n"
     ]
    }
   ],
   "source": [
    "my_campaign = pyridy.Campaign()\n",
    "my_campaign.import_files(\"files/sqlite/sample3.sqlite\", sync_method=\"ntp_time\")\n",
    "acc_dur_pre = my_campaign[0].measurements[AccelerationSeries].get_duration()\n",
    "my_campaign[0].measurements[AccelerationSeries] = my_campaign[0].measurements[AccelerationSeries].cut(5, 5)\n",
    "acc_dur_post = my_campaign[0].measurements[AccelerationSeries].get_duration()\n",
    "print(acc_dur_pre - acc_dur_post)"
   ]
  }
 ],
 "metadata": {
  "kernelspec": {
   "display_name": "Python 3 (ipykernel)",
   "language": "python",
   "name": "python3"
  },
  "language_info": {
   "codemirror_mode": {
    "name": "ipython",
    "version": 3
   },
   "file_extension": ".py",
   "mimetype": "text/x-python",
   "name": "python",
   "nbconvert_exporter": "python",
   "pygments_lexer": "ipython3",
   "version": "3.8.15"
  }
 },
 "nbformat": 4,
 "nbformat_minor": 5
}
